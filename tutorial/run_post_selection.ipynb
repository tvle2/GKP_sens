{
  "cells": [
    {
      "cell_type": "code",
      "execution_count": 1,
      "metadata": {
        "collapsed": false
      },
      "outputs": [],
      "source": [
        "# This cell is added by sphinx-gallery\n",
        "# It can be customized to whatever you like\n",
        "%matplotlib inline"
      ]
    },
    {
      "cell_type": "markdown",
      "metadata": {},
      "source": [
        "\n",
        "\n",
        "Measurements and post-selection\n",
        "===============================\n",
        "\n",
        ".. role:: html(raw)\n",
        "   :format: html\n",
        "\n",
        "In this tutorial, we will walk through the use of measurement operators in Strawberry Fields, and\n",
        "how they may be used to perform post-selection. Be sure to read through the introductory\n",
        "`teleportation tutorial <tutorial>` before attempting this tutorial.\n",
        "\n",
        "\n",
        "Measurement operators\n",
        "---------------------\n",
        "\n",
        "The Blackbird programming language supports the following measurement operations:\n",
        "\n",
        ".. rst-class:: docstable\n",
        "\n",
        "+----------------------------------+------------------------------------------------------------------------+---------------------------+-------------------------+\n",
        "|           Measurement            |                     Operation                                          |         Shortcuts         |     Backend Support     |\n",
        "+==================================+========================================================================+===========================+=========================+\n",
        "| Homodyne detection               | :class:`MeasureHomodyne(phi=0) <strawberryfields.ops.MeasureHomodyne>` | ``MeasureX`` ``MeasureP`` | ``\"fock\"``, ``\"tf\"``,   |\n",
        "| of quadrature angle $\\phi$ |                                                                        |                           | ``\"gaussian\"``,         |\n",
        "|                                  |                                                                        |                           | ``\"bosonic\"``           |\n",
        "+----------------------------------+------------------------------------------------------------------------+---------------------------+-------------------------+\n",
        "| Heterodyne detection             | :class:`MeasureHeterodyne() <strawberryfields.ops.MeasureHeterodyne>`  | ``MeasureHD``             | ``\"gaussian\"``,         |\n",
        "|                                  |                                                                        |                           | ``\"bosonic\"``           |\n",
        "+----------------------------------+------------------------------------------------------------------------+---------------------------+-------------------------+\n",
        "| Photon-counting                  | :class:`MeasureFock() <strawberryfields.ops.MeasureFock>`              | None                      | ``\"fock\"``, ``\"tf\"``,   |\n",
        "|                                  |                                                                        |                           | ``\"gaussian\"``          |\n",
        "+----------------------------------+------------------------------------------------------------------------+---------------------------+-------------------------+\n",
        "\n",
        "<div class=\"alert alert-info\"><h4>Note</h4><p>While all backends support homodyne detection, the Gaussian and Bosonic backends are the only backends\n",
        "    that support heterodyne detection. On the other hand, Fock-basis measurements are supported in the \"fock\",\n",
        "    \"tf\" and \"gaussian\" backends. Note though, the Gaussian backend does not update the post-measurement quantum state, which\n",
        "    would be non-Gaussian.</p></div>\n",
        "\n",
        "The measurement operators are used in the same manner as all other quantum transformation operations\n",
        "in Blackbird:\n",
        "\n",
        "``MeasurementOperator | (q[0], q[1], q[2], ...)``\n",
        "\n",
        "where the left-hand side represents the measurement operator (along with any required or optional\n",
        "arguments), and the right-hand side signifies the modes which are to be measured.\n",
        "\n",
        "To see how this works in practice, consider the following circuit, where two incident Fock states\n",
        "$\\ket{n}$ and $\\ket{m}$ are directed on a beamsplitter, with two photon detectors at the\n",
        "output modes.\n",
        "\n",
        "|\n",
        "\n",
        "![](/tutorials/images/bs_measure.svg)\n",
        "\n",
        "    :align: center\n",
        "    :width: 30%\n",
        "    :target: javascript:void(0);\n",
        "\n",
        "|\n",
        "\n",
        "Due to the definition of the beamsplitter, we know that it preserves the photon number of the\n",
        "system; thus, the two output states $\\ket{n'}$ and $\\ket{m'}$ must be such that\n",
        "$n+m=n'+m'$.\n",
        "\n",
        "Constructing this circuit in Strawberry Fields with $n=2,~m=3$, let's perform only the first\n",
        "Fock measurement.\n"
      ]
    },
    {
      "cell_type": "code",
      "execution_count": null,
      "metadata": {
        "collapsed": false
      },
      "outputs": [],
      "source": [
        "import numpy as np\n",
        "\n",
        "# set the random seed\n",
        "np.random.seed(42)\n",
        "\n",
        "import strawberryfields as sf\n",
        "from strawberryfields.ops import *\n",
        "\n",
        "prog = sf.Program(2)\n",
        "eng = sf.Engine(\"fock\", backend_options={\"cutoff_dim\": 6})\n",
        "\n",
        "with prog.context as q:\n",
        "    Fock(2) | q[0]\n",
        "    Fock(3) | q[1]\n",
        "    BSgate() | (q[0], q[1])\n",
        "    MeasureFock() | q[0]\n",
        "\n",
        "results = eng.run(prog)"
      ]
    },
    {
      "cell_type": "markdown",
      "metadata": {},
      "source": [
        "<div class=\"alert alert-info\"><h4>Note</h4><p>If the :class:`~strawberryfields.ops.BSgate` parameters are not specified, by default a 50-50\n",
        "    beamsplitter ``BSgate(pi/4,0)`` is applied.</p></div>\n",
        "\n",
        "The default action after every measurement is to reset the measured modes to the vacuum state.\n",
        "However, we can extract the measured value of mode ``q[0]`` via the ``results`` object returned by\n",
        "the engine after it has finished execution:\n",
        "\n"
      ]
    },
    {
      "cell_type": "code",
      "execution_count": null,
      "metadata": {
        "collapsed": false
      },
      "outputs": [],
      "source": [
        "print(results.samples[0][0])"
      ]
    },
    {
      "cell_type": "markdown",
      "metadata": {},
      "source": [
        "<div class=\"alert alert-info\"><h4>Note</h4><p>Since measurement is a stochastic process, your results might differ when executing this code.</p></div>\n",
        "\n",
        "Since no measurement has yet been applied to the second mode, ``results.samples`` does not tell\n",
        "us the value of $m'$. However we know that, to preserve the photon number, ``q[1]``\n",
        "must be in the state $\\ket{m+n-n'}$, where $m$ and $n$ are the photon\n",
        "numbers of the initial states and $n'$ is the value returned in :code:`result.samples`.\n",
        "Executing the backend again, and this time applying the second Fock measurement:\n",
        "\n"
      ]
    },
    {
      "cell_type": "code",
      "execution_count": null,
      "metadata": {
        "collapsed": false
      },
      "outputs": [],
      "source": [
        "prog2 = sf.Program(2)\n",
        "with prog2.context as q:\n",
        "    MeasureFock() | q[1]\n",
        "\n",
        "results = eng.run(prog2)"
      ]
    },
    {
      "cell_type": "markdown",
      "metadata": {},
      "source": [
        "We will find that the second measurement yields $m+n-n'$. In this case, we get\n",
        "\n"
      ]
    },
    {
      "cell_type": "code",
      "execution_count": null,
      "metadata": {
        "collapsed": false
      },
      "outputs": [],
      "source": [
        "print(results.samples[0][0])"
      ]
    },
    {
      "cell_type": "markdown",
      "metadata": {},
      "source": [
        "Post-selection\n",
        "--------------\n",
        "\n",
        "In addition, StrawberryFields also allows the specification or post-selection of a required measurement\n",
        "output, and will condition the remaining unmeasured modes based on this post-selected value.  When\n",
        "applying the measurement operators, the optional keyword argument ``select`` can be passed to the\n",
        "operator. The value should be an **integer** (or **list of integers**) for\n",
        ":class:`~strawberryfields.ops.MeasureFock`, a **float** for\n",
        ":class:`~strawberryfields.ops.MeasureHomodyne`, and a **complex value** for\n",
        ":class:`~strawberryfields.ops.MeasureHeterodyne`.\n",
        "\n",
        "For example, we can rewrite the example above using post-selection:\n",
        "\n"
      ]
    },
    {
      "cell_type": "code",
      "execution_count": null,
      "metadata": {
        "collapsed": false
      },
      "outputs": [],
      "source": [
        "prog = sf.Program(2)\n",
        "eng = sf.Engine(\"fock\", backend_options={\"cutoff_dim\": 6})\n",
        "\n",
        "with prog.context as q:\n",
        "    Fock(2) | q[0]\n",
        "    Fock(3) | q[1]\n",
        "    BSgate() | (q[0], q[1])\n",
        "    MeasureFock(select=0) | q[0]\n",
        "    MeasureFock() | q[1]\n",
        "\n",
        "result = eng.run(prog)"
      ]
    },
    {
      "cell_type": "markdown",
      "metadata": {},
      "source": [
        "Since we are post-selecting a measurement of 0 photons in mode ``q[0]``, we expect\n",
        "``result.samples[0]`` to be ``0`` and ``result.samples[1]`` to be ``5``. Indeed,\n",
        "\n"
      ]
    },
    {
      "cell_type": "code",
      "execution_count": null,
      "metadata": {
        "collapsed": false
      },
      "outputs": [],
      "source": [
        "print(result.samples)"
      ]
    },
    {
      "cell_type": "markdown",
      "metadata": {},
      "source": [
        "<div class=\"alert alert-danger\"><h4>Warning</h4><p>If we attempt to post-select on Fock measurement results that have zero probability given the\n",
        "    circuit/state of the simulation, the Fock backend returns a ``ZeroDivisionError``. For example,\n",
        "    in the previous code snippet, if we instead attempt to post-select two values that do not\n",
        "    preserve the photon number,\n",
        "\n",
        "    >>> eng.run(\"fock\", cutoff_dim=6, select=[1,2])\n",
        "    ZeroDivisionError: Measurement has zero probability.\n",
        "\n",
        "    This check is provided for convenience, but the user should always be aware of post-selecting on zero-probability events. The current implementation of homodyne measurements in the Fock backend *does not* currently perform this check.</p></div>\n",
        "\n",
        "Example\n",
        "-------\n",
        "\n",
        "Consider the following circuit:\n",
        "\n",
        "|\n",
        "\n",
        "![](/tutorials/images/s_measure.svg)\n",
        "\n",
        "    :align: center\n",
        "    :width: 30%\n",
        "    :target: javascript:void(0);\n",
        "\n",
        "|\n",
        "\n",
        "Here, we have two vacuum states incident on a two-mode squeezed gate. Homodyne detection in the\n",
        "$x$ quadrature of the first output mode is then performed; as a result, the output mode\n",
        "``q[1]`` is conditionally displaced depending on the measured value.\n",
        "\n",
        "We can simulate this conditional displacement using post-selection. Utilizing the Gaussian\n",
        "backend, the above circuit can be simulated in Strawberry Fields as follows:\n",
        "\n"
      ]
    },
    {
      "cell_type": "code",
      "execution_count": null,
      "metadata": {
        "collapsed": false
      },
      "outputs": [],
      "source": [
        "prog = sf.Program(2)\n",
        "eng = sf.Engine(\"gaussian\")\n",
        "\n",
        "with prog.context as q:\n",
        "    S2gate(1) | (q[0], q[1])\n",
        "    MeasureHomodyne(0, select=1) | q[0]\n",
        "\n",
        "state = eng.run(prog).state"
      ]
    },
    {
      "cell_type": "markdown",
      "metadata": {},
      "source": [
        "To check the displacement of the second output mode, we can use the\n",
        ":meth:`~strawberryfields.backends.BaseGaussianState.reduced_gaussian` state method to extract the\n",
        "vector of means and the covariance matrix:\n",
        "\n"
      ]
    },
    {
      "cell_type": "code",
      "execution_count": null,
      "metadata": {
        "collapsed": false
      },
      "outputs": [],
      "source": [
        "mu, cov = state.reduced_gaussian([1])"
      ]
    },
    {
      "cell_type": "markdown",
      "metadata": {},
      "source": [
        "The vector of means contains the mean quadrature displacements, and for a single mode is of the form\n",
        "$\\bar{\\mathbf{r}} = (\\bar{\\mathbf{x}}, \\bar{\\mathbf{p}})$. Therefore, looking at the first\n",
        "index of the vector of means for ``q[1]``:\n",
        "\n"
      ]
    },
    {
      "cell_type": "code",
      "execution_count": null,
      "metadata": {
        "collapsed": false
      },
      "outputs": [],
      "source": [
        "print(mu[0])"
      ]
    },
    {
      "cell_type": "markdown",
      "metadata": {},
      "source": [
        "The $x$ quadrature displacement of the second mode is conditional to the post-selected value\n",
        "in the circuit construction above.\n",
        "\n",
        "Measurement control and processing\n",
        "----------------------------------\n",
        "\n",
        "In addition to the features already explored above, Strawberry Fields also allows the measurement\n",
        "results of qumodes to be used as subsequent gate parameters. This is simple and intuitive as well -\n",
        "simply pass the register referencing the measured mode as the gate argument, for example like\n",
        "\n",
        "``MeasureX        | q[0]``\n",
        "``Rgate(q[0].par) | q[1]``\n",
        "\n",
        "and the Strawberry Fields engine will, in the background, ensure that the measured value of that\n",
        "mode is used as the gate parameter during the circuit simulation.\n",
        "\n",
        "Note that, the return type of the measurement determines the parameter type, potentially restricting\n",
        "the resulting gates which can be measurement-controlled.\n",
        "\n",
        ".. rst-class:: docstable\n",
        "\n",
        "+------------------------------------------------------------------------+----------------+-------------------------------------------------------+\n",
        "|                    Measurement                                         |  Return type   |           Gates with matching parameter type          |\n",
        "+========================================================================+================+=======================================================+\n",
        "| :class:`MeasureHomodyne(phi=0) <strawberryfields.ops.MeasureHomodyne>` | Real number    | All                                                   |\n",
        "+------------------------------------------------------------------------+----------------+-------------------------------------------------------+\n",
        "| :class:`MeasureHeterodyne() <strawberryfields.ops.MeasureHeterodyne>`  | Complex number | :class:`~strawberryfields.ops.Dgate`,                 |\n",
        "|                                                                        |                | :class:`~strawberryfields.ops.Sgate`,                 |\n",
        "|                                                                        |                | :class:`~strawberryfields.ops.S2gate`                 |\n",
        "+------------------------------------------------------------------------+----------------+-------------------------------------------------------+\n",
        "| :class:`MeasureFock() <strawberryfields.ops.MeasureFock>`              | Integer        | All                                                   |\n",
        "+------------------------------------------------------------------------+----------------+-------------------------------------------------------+\n",
        "\n",
        "Classical processing\n",
        "---------------------\n",
        "\n",
        "Sometimes, additional classical processing needs to be performed on the measured value before using\n",
        "it as a gate parameter; Strawberry Fields provides the ability to perform simple classical\n",
        "processing by simply accessing the ``.par`` attribute of the measured parameter.\n",
        "\n",
        "These only need to be used when passing a measured mode value as a gate parameter. For example, if\n",
        "we wish to perform a Fock measurement on a mode, and then use the measured value to perform a\n",
        "controlled displacement on other modes, we could do the following:\n",
        "\n"
      ]
    },
    {
      "cell_type": "code",
      "execution_count": null,
      "metadata": {
        "collapsed": false
      },
      "outputs": [],
      "source": [
        "prog = sf.Program(2)\n",
        "with prog.context as q:\n",
        "    MeasureFock() | q[0]\n",
        "    Dgate(q[0].par ** 2) | q[1]"
      ]
    },
    {
      "cell_type": "markdown",
      "metadata": {},
      "source": [
        "In addition, the Strawberry Fields maths module can be used to transform\n",
        "measured mode values within gate arguments:\n",
        "\n"
      ]
    },
    {
      "cell_type": "code",
      "execution_count": null,
      "metadata": {
        "collapsed": false
      },
      "outputs": [],
      "source": [
        "prog = sf.Program(2)\n",
        "with prog.context as q:\n",
        "    MeasureFock() | q[0]\n",
        "    Dgate(sf.math.cos(q[0].par) + 2) | q[1]"
      ]
    },
    {
      "cell_type": "markdown",
      "metadata": {},
      "source": [
        "<div class=\"alert alert-info\"><h4>Note</h4><p>Only use the functions with ``sf.math`` within the Blackbird code/program context.\n",
        "    Outside of the program context, you may use standard Python/NumPy/TensorFlow\n",
        "    math functions.</p></div>\n",
        "\n"
      ]
    }
  ],
  "metadata": {
    "kernelspec": {
      "display_name": "cv_Computing",
      "language": "python",
      "name": "python3"
    },
    "language_info": {
      "codemirror_mode": {
        "name": "ipython",
        "version": 3
      },
      "file_extension": ".py",
      "mimetype": "text/x-python",
      "name": "python",
      "nbconvert_exporter": "python",
      "pygments_lexer": "ipython3",
      "version": "3.9.21"
    }
  },
  "nbformat": 4,
  "nbformat_minor": 0
}
