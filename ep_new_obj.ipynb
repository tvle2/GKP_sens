{
 "cells": [
  {
   "cell_type": "code",
   "execution_count": 1,
   "metadata": {},
   "outputs": [
    {
     "name": "stderr",
     "output_type": "stream",
     "text": [
      "c:\\Users\\tvle2\\AppData\\Local\\anaconda3\\envs\\cv_Computing\\lib\\site-packages\\tqdm\\auto.py:21: TqdmWarning: IProgress not found. Please update jupyter and ipywidgets. See https://ipywidgets.readthedocs.io/en/stable/user_install.html\n"
     ]
    }
   ],
   "source": [
    "import strawberryfields as sf\n",
    "import numpy as np\n",
    "import matplotlib.pyplot as plt\n",
    "from tqdm.auto import tqdm\n",
    "from scipy.ndimage import gaussian_filter\n",
    "\n",
    "# --- CONFIGURATION ---\n",
    "sf.hbar = 1\n",
    "np.random.seed(42)\n",
    "\n",
    "# Parameters\n",
    "eta, delta = 0.9, 0.01\n",
    "num_steps = 200\n",
    "learning_rate = 0.003  # Adjusted for epsilon optimization\n",
    "quad_pts = 200\n",
    "quad_axis = np.linspace(-6, 6, quad_pts)\n",
    "mu = np.pi/4  # Fixed LO phase for this optimization\n",
    "\n",
    "# --- Helper Functions ---\n",
    "def db_to_epsilon(db_val: float) -> float:\n",
    "    \"\"\"\n",
    "    Convert a given GKP squeezing level in dB to epsilon via:\n",
    "         tanh(epsilon) = 10^(-db_val/10)\n",
    "    \"\"\"\n",
    "    t = 10.0 ** (-db_val / 10.0)\n",
    "    eps = 0.5 * np.log((1.0 + t) / (1.0 - t))\n",
    "    return eps\n",
    "\n",
    "def epsilon_to_db(epsilon: float) -> float:\n",
    "    \"\"\"Convert epsilon to dB value\"\"\"\n",
    "    t = np.tanh(epsilon)\n",
    "    return -10.0 * np.log10(t)\n",
    "\n",
    "def prepare_gkp_state(epsilon, eta, gamma, phi=0.0, Nphi=15, phi_clip=3.0):\n",
    "    \"\"\"\n",
    "    Prepare GKP state under loss (eta) and approximate dephasing (gamma),\n",
    "    returning its 2D Wigner function on the grid 'quad_axis'.\n",
    "    \"\"\"\n",
    "    prog = sf.Program(1)\n",
    "    eng = sf.Engine(\"bosonic\")\n",
    "\n",
    "    phi_std = np.sqrt(gamma)\n",
    "    if gamma < 1e-12:\n",
    "        with prog.context as q:\n",
    "            sf.ops.GKP(state=[0,0], epsilon=epsilon) | q[0]\n",
    "            if eta < 1.0:\n",
    "                sf.ops.LossChannel(eta) | q[0]\n",
    "            sf.ops.Rgate(phi) | q[0]\n",
    "        state = eng.run(prog).state\n",
    "        W = state.wigner(0, quad_axis, quad_axis)\n",
    "        return W\n",
    "\n",
    "    # Otherwise, approximate dephasing by averaging over random rotations\n",
    "    phis = np.linspace(-phi_clip*phi_std, phi_clip*phi_std, Nphi)\n",
    "    dphi = phis[1] - phis[0]\n",
    "    weights = np.exp(-0.5*(phis/phi_std)**2)\n",
    "    weights /= weights.sum()\n",
    "\n",
    "    wigner_avg = np.zeros((quad_pts, quad_pts), dtype=float)\n",
    "    for phi_val, w in zip(phis, weights):\n",
    "        prog = sf.Program(1)\n",
    "        with prog.context as q:\n",
    "            sf.ops.GKP(state=[0,0], epsilon=epsilon) | q[0]\n",
    "            sf.ops.LossChannel(eta) | q[0]\n",
    "            sf.ops.Rgate(phi_val) | q[0]\n",
    "        state = eng.run(prog).state\n",
    "        wigner_avg += w * state.wigner(0, quad_axis, quad_axis)\n",
    "    return wigner_avg\n",
    "\n",
    "def compute_wigner_derivatives(epsilon, eta, delta, d_eta=1e-3, d_delta=1e-3):\n",
    "    \"\"\"\n",
    "    Compute the derivatives of Wigner function with respect to eta and delta\n",
    "    using central difference method\n",
    "    \"\"\"\n",
    "    # Base Wigner function\n",
    "    W_base = prepare_gkp_state(epsilon, eta, delta)\n",
    "    \n",
    "    # Compute dW/deta using central difference\n",
    "    W_eta_plus = prepare_gkp_state(epsilon, eta + d_eta/2, delta)\n",
    "    W_eta_minus = prepare_gkp_state(epsilon, eta - d_eta/2, delta)\n",
    "    dW_deta = (W_eta_plus - W_eta_minus) / d_eta\n",
    "    \n",
    "    # Compute dW/ddelta using central difference\n",
    "    W_delta_plus = prepare_gkp_state(epsilon, eta, delta + d_delta/2)\n",
    "    W_delta_minus = prepare_gkp_state(epsilon, eta, delta - d_delta/2)\n",
    "    dW_ddelta = (W_delta_plus - W_delta_minus) / d_delta\n",
    "    \n",
    "    return W_base, dW_deta, dW_ddelta\n",
    "\n",
    "def compute_qfi_bound(dW_deta, dW_ddelta):\n",
    "    \"\"\"\n",
    "    Compute the QFI bound using Wigner function derivatives\n",
    "    For multi-parameter case: F_total = F_eta_eta + F_delta_delta\n",
    "    \"\"\"\n",
    "    dq = quad_axis[1] - quad_axis[0]\n",
    "    dp = dq\n",
    "    \n",
    "    # Compute F_eta_eta ≤ 4π∫(∂_η W)² dq dp\n",
    "    F_eta_eta = 4 * np.pi * np.sum(dW_deta**2) * dq * dp\n",
    "    \n",
    "    # Compute F_delta_delta ≤ 4π∫(∂_δ W)² dq dp\n",
    "    F_delta_delta = 4 * np.pi * np.sum(dW_ddelta**2) * dq * dp\n",
    "    \n",
    "    # Total QFI (trace of QFI matrix)\n",
    "    F_total = F_eta_eta + F_delta_delta\n",
    "    \n",
    "    return F_total, F_eta_eta, F_delta_delta\n",
    "\n",
    "def compute_qfi_gradient(epsilon, eta, delta, d_epsilon=1e-3):\n",
    "    \"\"\"\n",
    "    Compute the gradient of the QFI bound with respect to epsilon\n",
    "    using central difference method\n",
    "    \"\"\"\n",
    "    # Compute QFI at epsilon + d_epsilon/2\n",
    "    _, dW_deta_plus, dW_ddelta_plus = compute_wigner_derivatives(\n",
    "        epsilon + d_epsilon/2, eta, delta)\n",
    "    F_total_plus, _, _ = compute_qfi_bound(dW_deta_plus, dW_ddelta_plus)\n",
    "    \n",
    "    # Compute QFI at epsilon - d_epsilon/2\n",
    "    _, dW_deta_minus, dW_ddelta_minus = compute_wigner_derivatives(\n",
    "        epsilon - d_epsilon/2, eta, delta)\n",
    "    F_total_minus, _, _ = compute_qfi_bound(dW_deta_minus, dW_ddelta_minus)\n",
    "    \n",
    "    # Compute gradient\n",
    "    grad_epsilon = (F_total_plus - F_total_minus) / d_epsilon\n",
    "    \n",
    "    return grad_epsilon\n",
    "\n",
    "\n",
    "def marginal_from_wigner(W, xvec, phi):\n",
    "    \"\"\"Compute marginal distribution from the Wigner function at angle phi.\"\"\"\n",
    "    Q, P = np.meshgrid(xvec, xvec, indexing='xy')\n",
    "    dq = xvec[1] - xvec[0]\n",
    "\n",
    "    X = Q * np.cos(phi) + P * np.sin(phi)\n",
    "\n",
    "    bin_indices = np.floor((X - xvec[0]) / dq).astype(int)\n",
    "    valid_bins = (bin_indices >= 0) & (bin_indices < len(xvec))\n",
    "\n",
    "    P_x_mu = np.bincount(bin_indices[valid_bins].ravel(),\n",
    "                         weights=W[valid_bins].ravel() * dq**2,\n",
    "                         minlength=len(xvec))\n",
    "\n",
    "    norm = np.trapz(P_x_mu, xvec)\n",
    "    if norm > 1e-15:\n",
    "        P_x_mu /= norm\n",
    "    return P_x_mu\n",
    "\n",
    "\n",
    "def compute_marginal_mse_epsilon(epsilon_values):\n",
    "    \"\"\"Compute marginal MSE for epsilon optimization.\"\"\"\n",
    "    mse_values = []\n",
    "\n",
    "    phi_fixed = np.pi/4   # fixed quadrature angle for measurement\n",
    "\n",
    "    for epsilon in epsilon_values:\n",
    "        W_ideal = prepare_gkp_state(epsilon=epsilon, eta=1.0, gamma=0.0)\n",
    "        W_noisy = prepare_gkp_state(epsilon=epsilon, eta=eta, gamma=delta)\n",
    "\n",
    "        P_ideal = marginal_from_wigner(W_ideal, quad_axis, phi=phi_fixed)\n",
    "        P_noisy = marginal_from_wigner(W_noisy, quad_axis, phi=phi_fixed)\n",
    "\n",
    "        mse = np.trapz((P_noisy - P_ideal)**2, quad_axis)\n",
    "        mse_values.append(mse)\n",
    "\n",
    "    return mse_values"
   ]
  },
  {
   "cell_type": "code",
   "execution_count": 2,
   "metadata": {},
   "outputs": [
    {
     "name": "stdout",
     "output_type": "stream",
     "text": [
      "Initial epsilon: 0.0324 (equivalent to 14.90 dB)\n"
     ]
    },
    {
     "name": "stderr",
     "output_type": "stream",
     "text": [
      "  0%|          | 0/200 [00:00<?, ?it/s]"
     ]
    }
   ],
   "source": [
    "# Main optimization loop\n",
    "# Initialize with ~10 dB squeezing\n",
    "epsilon = db_to_epsilon(14.9)\n",
    "epsilon_min = db_to_epsilon(15.0)  # Maximum squeezing (~15 dB)\n",
    "epsilon_max = db_to_epsilon(5.0)   # Minimum squeezing (~5 dB)\n",
    "\n",
    "print(f\"Initial epsilon: {epsilon:.4f} (equivalent to {epsilon_to_db(epsilon):.2f} dB)\")\n",
    "\n",
    "qfi_history, epsilon_history, gradient_history = [], [], []\n",
    "velocity = 0\n",
    "momentum = 0.9\n",
    "\n",
    "for step in tqdm(range(num_steps)):\n",
    "    # Compute Wigner derivatives\n",
    "    W, dW_deta, dW_ddelta = compute_wigner_derivatives(epsilon, eta, delta)\n",
    "    \n",
    "    # Compute current QFI bound\n",
    "    F_total, F_eta_eta, F_delta_delta = compute_qfi_bound(dW_deta, dW_ddelta)\n",
    "    \n",
    "    # Compute gradient of QFI with respect to epsilon\n",
    "    grad_epsilon = compute_qfi_gradient(epsilon, eta, delta)\n",
    "    \n",
    "    # Clip gradient to prevent too large steps\n",
    "    grad_epsilon = np.clip(grad_epsilon, -0.05, 0.05)\n",
    "    \n",
    "    # Momentum-based gradient ascent update\n",
    "    velocity = momentum * velocity + learning_rate * grad_epsilon\n",
    "    epsilon += velocity\n",
    "    \n",
    "    # Ensure epsilon stays within bounds\n",
    "    epsilon = np.clip(epsilon, epsilon_min, epsilon_max)\n",
    "    \n",
    "    # Store history\n",
    "    qfi_history.append(F_total)\n",
    "    epsilon_history.append(epsilon)\n",
    "    gradient_history.append(grad_epsilon)\n",
    "    \n",
    "    if step % 5 == 0:\n",
    "        db_val = epsilon_to_db(epsilon)\n",
    "        print(f\"Step {step}: ε={epsilon:.4f} ({db_val:.2f} dB), \" \n",
    "              f\"QFI={F_total:.4e}, F_η={F_eta_eta:.4e}, F_δ={F_delta_delta:.4e}\")\n"
   ]
  },
  {
   "cell_type": "code",
   "execution_count": 3,
   "metadata": {},
   "outputs": [
    {
     "data": {
      "image/png": "[encoded data removed]",
      "text/plain": [
       "<Figure size 1200x800 with 4 Axes>"
      ]
     },
     "metadata": {},
     "output_type": "display_data"
    },
    {
     "name": "stdout",
     "output_type": "stream",
     "text": [
      "Optimization complete!\n",
      "Final epsilon: 0.0622 (equivalent to 12.07 dB)\n",
      "Final QFI bound: 2.045901e+02\n"
     ]
    }
   ],
   "source": [
    "# Plot results\n",
    "plt.figure(figsize=(12, 8))\n",
    "\n",
    "# Plot 1: QFI evolution\n",
    "plt.subplot(2, 2, 1)\n",
    "plt.plot(qfi_history)\n",
    "plt.title('QFI Bound Evolution')\n",
    "plt.xlabel('Steps')\n",
    "plt.ylabel('QFI Bound')\n",
    "\n",
    "# Plot 2: Epsilon evolution\n",
    "plt.subplot(2, 2, 2)\n",
    "plt.plot([epsilon_to_db(eps) for eps in epsilon_history])\n",
    "plt.title('GKP Squeezing (dB) Evolution')\n",
    "plt.xlabel('Steps')\n",
    "plt.ylabel('Squeezing (dB)')\n",
    "\n",
    "\n",
    "# Plot 4: Final Wigner function\n",
    "plt.subplot(2, 2, 3)\n",
    "plt.imshow(W, extent=[quad_axis[0], quad_axis[-1], quad_axis[0], quad_axis[-1]], \n",
    "           origin='lower', cmap='seismic')\n",
    "plt.title(f'Optimized GKP Wigner Function ({epsilon_to_db(epsilon):.2f} dB)')\n",
    "plt.xlabel('q')\n",
    "plt.ylabel('p')\n",
    "plt.colorbar()\n",
    "\n",
    "plt.tight_layout()\n",
    "plt.savefig('gkp_optimization_results.png')\n",
    "plt.show()\n",
    "\n",
    "print(f\"Optimization complete!\")\n",
    "print(f\"Final epsilon: {epsilon:.4f} (equivalent to {epsilon_to_db(epsilon):.2f} dB)\")\n",
    "print(f\"Final QFI bound: {qfi_history[-1]:.6e}\")"
   ]
  },
  {
   "cell_type": "markdown",
   "metadata": {},
   "source": [
    "### Save the result"
   ]
  },
  {
   "cell_type": "code",
   "execution_count": 4,
   "metadata": {},
   "outputs": [
    {
     "name": "stdout",
     "output_type": "stream",
     "text": [
      "Optimization data saved to gkp_optimization_eta0.9_delta0.01.txt\n"
     ]
    }
   ],
   "source": [
    "# Save the data to text files\n",
    "# Basic version using NumPy's savetxt\n",
    "np.savetxt(f'C:/Users/tvle2/Documents/Code/Bosonic/dataset/QFI/gkp_optimization_eta{eta}_delta{delta}_init7.txt', \n",
    "           np.column_stack((\n",
    "               np.arange(len(qfi_history)),\n",
    "               epsilon_history,\n",
    "               [epsilon_to_db(eps) for eps in epsilon_history],\n",
    "               qfi_history,\n",
    "           )),\n",
    "           delimiter='\\t',\n",
    "           header='Step\\tEpsilon\\tSqueezing(dB)\\tQFI_Total',\n",
    "           fmt=['%d', '%.6f', '%.4f', '%.6e'])\n",
    "\n",
    "print(f\"Optimization data saved to gkp_optimization_eta{eta}_delta{delta}.txt\")"
   ]
  },
  {
   "cell_type": "code",
   "execution_count": 7,
   "metadata": {},
   "outputs": [
    {
     "data": {
      "image/png": "[encoded data removed]",
      "text/plain": [
       "<Figure size 1000x600 with 2 Axes>"
      ]
     },
     "metadata": {},
     "output_type": "display_data"
    }
   ],
   "source": [
    "import matplotlib.pyplot as plt\n",
    "\n",
    "steps_to_plot = 200  # Limit to the first 70 steps\n",
    "\n",
    "fig, ax1 = plt.subplots(figsize=(10, 6))\n",
    "\n",
    "color_qfi = 'tab:blue'\n",
    "color_squeeze = 'tab:red'\n",
    "\n",
    "# Slice data to the first 70 steps\n",
    "qfi_to_plot = qfi_history[:steps_to_plot]\n",
    "squeeze_to_plot = [epsilon_to_db(eps) for eps in epsilon_history[:steps_to_plot]]\n",
    "\n",
    "# Plot QFI on primary y-axis\n",
    "ax1.set_xlabel('Iterations', fontsize=20)\n",
    "ax1.set_ylabel('QFI', fontsize=20, color=color_qfi)\n",
    "ax1.plot(range(steps_to_plot), qfi_to_plot, color=color_qfi, linewidth=2, label='QFI')\n",
    "ax1.tick_params(axis='y', labelcolor=color_qfi, labelsize=18)\n",
    "ax1.tick_params(axis='x', labelsize=18)\n",
    "\n",
    "# Create secondary y-axis for squeezing\n",
    "ax2 = ax1.twinx()\n",
    "ax2.set_ylabel('Squeezing (dB)', fontsize=20, color=color_squeeze)\n",
    "ax2.plot(range(steps_to_plot), squeeze_to_plot, \n",
    "         color=color_squeeze, linewidth=2, linestyle='--', label='Squeezing (dB)')\n",
    "ax2.tick_params(axis='y', labelcolor=color_squeeze, labelsize=18)\n",
    "\n",
    "# ax1.grid(True)\n",
    "\n",
    "# Legends (optional, recommended)\n",
    "plt.xticks(fontsize=16)\n",
    "plt.yticks(fontsize=16)\n",
    "lines_qfi, labels_qfi = ax1.get_legend_handles_labels()\n",
    "lines_squeeze, labels_squeeze = ax2.get_legend_handles_labels()\n",
    "ax1.legend(lines_qfi + lines_squeeze, labels_qfi + labels_squeeze, fontsize=18, loc='best')\n",
    "\n",
    "plt.tight_layout()\n",
    "plt.savefig('combined_qfi_squeezing_evolution_70_steps.png', dpi=800)\n",
    "plt.show()\n"
   ]
  },
  {
   "cell_type": "markdown",
   "metadata": {},
   "source": [
    "# MSE"
   ]
  },
  {
   "cell_type": "code",
   "execution_count": 8,
   "metadata": {},
   "outputs": [
    {
     "name": "stdout",
     "output_type": "stream",
     "text": [
      "Calculating MSE for ε optimization...\n"
     ]
    },
    {
     "name": "stderr",
     "output_type": "stream",
     "text": [
      "Computing MSE: 100%|██████████| 200/200 [49:21<00:00, 14.81s/it]\n"
     ]
    },
    {
     "data": {
      "image/png": "[encoded data removed]",
      "text/plain": [
       "<Figure size 1000x600 with 1 Axes>"
      ]
     },
     "metadata": {},
     "output_type": "display_data"
    }
   ],
   "source": [
    "import numpy as np\n",
    "import matplotlib.pyplot as plt\n",
    "from tqdm import tqdm\n",
    "import strawberryfields as sf\n",
    "\n",
    "# --- File Paths ---\n",
    "filename_qfi = \"C:/Users/tvle2/Documents/Code/Bosonic/dataset/QFI/gkp_optimization_eta0.9_delta0.01_init7.txt\"\n",
    "\n",
    "# --- Parameters ---\n",
    "quad_pts = 200\n",
    "quad_axis = np.linspace(-6, 6, quad_pts)\n",
    "eta, delta = 0.9, 0.01  # Channel parameters\n",
    "\n",
    "# --- Helper Functions ---\n",
    "def db_to_epsilon(db_val):\n",
    "    \"\"\"Convert squeezing in dB to epsilon.\"\"\"\n",
    "    t = 10.0 ** (-db_val / 10.0)\n",
    "    return 0.5 * np.log((1.0 + t) / (1.0 - t))\n",
    "\n",
    "def prepare_gkp_state(epsilon, eta, gamma, phi=0.0):\n",
    "    \"\"\"Prepare GKP state under loss (eta) and dephasing (gamma), returning its Wigner function.\"\"\"\n",
    "    prog = sf.Program(1)\n",
    "    eng = sf.Engine(\"bosonic\", backend_options={\"cutoff_dim\": 32})\n",
    "\n",
    "    phi_std = np.sqrt(gamma)\n",
    "    if gamma < 1e-12:\n",
    "        with prog.context as q:\n",
    "            sf.ops.GKP(state=[0, 0], epsilon=epsilon) | q[0]\n",
    "            if eta < 1.0:\n",
    "                sf.ops.LossChannel(eta) | q[0]\n",
    "            sf.ops.Rgate(phi) | q[0]\n",
    "        state = eng.run(prog).state\n",
    "        return state.wigner(0, quad_axis, quad_axis)\n",
    "\n",
    "    # Approximate dephasing by averaging\n",
    "    phis = np.linspace(-3 * phi_std, 3 * phi_std, 15)\n",
    "    weights = np.exp(-0.5 * (phis / phi_std)**2)\n",
    "    weights /= weights.sum()\n",
    "\n",
    "    wigner_avg = np.zeros((quad_pts, quad_pts), dtype=float)\n",
    "    for phi_val, w in zip(phis, weights):\n",
    "        prog = sf.Program(1)\n",
    "        with prog.context as q:\n",
    "            sf.ops.GKP(state=[0, 0], epsilon=epsilon) | q[0]\n",
    "            sf.ops.LossChannel(eta) | q[0]\n",
    "            sf.ops.Rgate(phi_val) | q[0]\n",
    "        state = eng.run(prog).state\n",
    "        wigner_avg += w * state.wigner(0, quad_axis, quad_axis)\n",
    "\n",
    "    return wigner_avg\n",
    "\n",
    "def compute_wigner_mse(W_ideal, W_noisy, quad_axis):\n",
    "    \"\"\"Compute MSE between two Wigner functions.\"\"\"\n",
    "    dq = quad_axis[1] - quad_axis[0]\n",
    "    dp = dq\n",
    "\n",
    "    W_ideal /= np.sum(W_ideal) * dq * dp\n",
    "    W_noisy /= np.sum(W_noisy) * dq * dp\n",
    "\n",
    "    return np.sum((W_ideal - W_noisy)**2) * dq * dp\n",
    "\n",
    "def compute_state_mse_wigner(epsilon, eta, delta):\n",
    "    \"\"\"Compute Wigner MSE for identical epsilon (ideal vs. noisy).\"\"\"\n",
    "    W_ideal = prepare_gkp_state(epsilon=epsilon, eta=1.0, gamma=0.0)\n",
    "    W_noisy = prepare_gkp_state(epsilon=epsilon, eta=eta, gamma=delta)\n",
    "    return compute_wigner_mse(W_ideal, W_noisy, quad_axis)\n",
    "\n",
    "def compute_mse_optimization(param_history):\n",
    "    \"\"\"Compute MSE for epsilon optimization history.\"\"\"\n",
    "    mse_values = []\n",
    "    for param in tqdm(param_history, desc=\"Computing MSE\"):\n",
    "        mse = compute_state_mse_wigner(epsilon=param, eta=eta, delta=delta)\n",
    "        mse_values.append(mse)\n",
    "    return mse_values\n",
    "\n",
    "# --- Main Execution ---\n",
    "if __name__ == \"__main__\":\n",
    "    qfi_data = np.loadtxt(filename_qfi, delimiter='\\t', skiprows=1)\n",
    "    epsilon_history = qfi_data[:, 1]\n",
    "\n",
    "    print(\"Calculating MSE for ε optimization...\")\n",
    "    mse_epsilon = compute_mse_optimization(epsilon_history)\n",
    "\n",
    "    plt.figure(figsize=(10, 6))\n",
    "    plt.plot(mse_epsilon, label='ε Optimization', color='red')\n",
    "    plt.xlabel('Optimization Step')\n",
    "    plt.ylabel('State MSE')\n",
    "    plt.title('GKP State Fidelity: ε Optimization')\n",
    "    plt.legend()\n",
    "    plt.grid(True)\n",
    "    plt.show()"
   ]
  },
  {
   "cell_type": "code",
   "execution_count": 14,
   "metadata": {},
   "outputs": [
    {
     "data": {
      "image/png": "[encoded data removed]",
      "text/plain": [
       "<Figure size 1000x600 with 1 Axes>"
      ]
     },
     "metadata": {},
     "output_type": "display_data"
    }
   ],
   "source": [
    "plt.figure(figsize=(10, 6))\n",
    "plt.plot(mse_epsilon, label='MSE', color='red')\n",
    "plt.xlabel('Optimization Step')\n",
    "plt.ylabel('State MSE')\n",
    "plt.legend()\n",
    "plt.grid(True)\n",
    "plt.show()"
   ]
  },
  {
   "cell_type": "code",
   "execution_count": 9,
   "metadata": {},
   "outputs": [
    {
     "name": "stdout",
     "output_type": "stream",
     "text": [
      "[0.013824477807014438, 0.013869389042733984, 0.013933621666910418, 0.014015689565509932, 0.014114138772155888, 0.014227365709430137, 0.014354735673189133, 0.014494963054967098, 0.014647402485542145, 0.014811230423955598, 0.014985769541583805, 0.015170664340878846, 0.015365022480351815, 0.015568794435145498, 0.01578138988513037, 0.016002549615652912, 0.016231997728430023, 0.01646943935404152, 0.01671474879865287, 0.016967401929825713, 0.01722762268565044, 0.01749504601555415, 0.017769683461049478, 0.01805154191178269, 0.018340205069604376, 0.018635861152639734, 0.018938489326038203, 0.019247842211426138, 0.019564319704919612, 0.019887435523595592, 0.020217587590026717, 0.020554491667296507, 0.02089855435265437, 0.021249476678179214, 0.02160767414091586, 0.021972832177690527, 0.022345375449414614, 0.02272497291704134, 0.023112323448003916, 0.02350682330283039, 0.023909191027520486, 0.024319633531203894, 0.024737513951545623, 0.02516387999982306, 0.025598377186821043, 0.026041219053623534, 0.026492629326069918, 0.026953154391560177, 0.027422422903632476, 0.02790099957707438, 0.028389486594778367, 0.028887179907094423, 0.02939537151363395, 0.02991369911760757, 0.03044247696100643, 0.030982401317176656, 0.03153347307888444, 0.03209644335180472, 0.03267134091571886, 0.033258582219466384, 0.03385901363879595, 0.0344727157130845, 0.035100185602638015, 0.0357419510601815, 0.036398572669510555, 0.03707110020691488, 0.037759735329477954, 0.03846467742976681, 0.03918758683074404, 0.03992876526824813, 0.04068954382126339, 0.04146978050982472, 0.042270906727613355, 0.04309391643077494, 0.04394044405273271, 0.04481049731615347, 0.04570645407626514, 0.04662904576331156, 0.04757902563677702, 0.048559157582188685, 0.04957042346888173, 0.05061383999407321, 0.051692650378994766, 0.0528081607435955, 0.05396251319974065, 0.05515720299105917, 0.0563963082271106, 0.05768172666748648, 0.05901635241396973, 0.06040331289560884, 0.061845991110636614, 0.06334805041970377, 0.06491346224249375, 0.06654653706656312, 0.06825195924448872, 0.07003361055349454, 0.07189941936636457, 0.07385428471346346, 0.07590483133729645, 0.07805831181587872, 0.08032267983048166, 0.0827066739272402, 0.08521991357086033, 0.08733065612400394, 0.08903179437122995, 0.09032697916535676, 0.09122876815263789, 0.09176033166176122, 0.09194532643476602, 0.09181733329400733, 0.09140794264086266, 0.09075467571519415, 0.08988773299913816, 0.08884047623916354, 0.08764448880387772, 0.08632885644200868, 0.08491628890116608, 0.08343169800159354, 0.08237670072911249, 0.08168544328747097, 0.08130885351764966, 0.08120926752992912, 0.08135793606027115, 0.08173014026802142, 0.08230872348184487, 0.08308339508718186, 0.08404208292940685, 0.08466559225770051, 0.08497617418513594, 0.08500014943708582, 0.08476605291139154, 0.08430298830128478, 0.0836392703516436, 0.08329602946681, 0.08323659200648162, 0.08343169800159354, 0.08385779775784716, 0.08399175165442876, 0.08386114195469607, 0.08349470261713506, 0.08341513194479833, 0.0835926940624203, 0.08400349080253712, 0.08412440661957471, 0.08398001543592978, 0.08360100786003798, 0.08351129689859925, 0.08367922977917096, 0.08408238674909696, 0.08419508449932527, 0.0840437615662778, 0.0836575808589503, 0.08356277660995927, 0.08372589221443438, 0.08412440661957471, 0.08423214859067658, 0.08407734688385092, 0.08368755895073156, 0.08358936895669036, 0.08374924085921312, 0.08364426341664205, 0.08379931284094005, 0.08368922496268814, 0.08383940893140364, 0.08372589221443438, 0.08387284851944478, 0.08375424565296596, 0.08340022751365837, 0.0833307363165906, 0.08351627633126815, 0.08393309983646392, 0.08406055122921136, 0.08392305258322517, 0.08355114720742689, 0.08346484774112971, 0.08363760611490603, 0.0840454402630342, 0.08416141514311332, 0.08401355526203468, 0.08363094975918405, 0.08353785999950704, 0.08370255519059866, 0.08410423240189634, 0.08421529766406952, 0.0840622305249966, 0.08367423298670106, 0.08357607089496413, 0.08373756508367196, 0.08372589221443438, 0.0839649303151415, 0.08392975051337244, 0.08364925701388529, 0.0836459278899141, 0.08389292370718214, 0.08386448638971805, 0.08358936895669036, 0.0835926940624203, 0.08384442335168178, 0.0838226980643395, 0.08355114720742689]\n"
     ]
    }
   ],
   "source": [
    "print(mse_epsilon)"
   ]
  },
  {
   "cell_type": "code",
   "execution_count": 15,
   "metadata": {},
   "outputs": [
    {
     "name": "stdout",
     "output_type": "stream",
     "text": [
      "[0.202089 0.201804 0.201398 0.200882 0.200267 0.199565 0.198782 0.197928\n",
      " 0.197009 0.196032 0.195003 0.193926 0.192808 0.191651 0.19046  0.189238\n",
      " 0.187988 0.186713 0.185415 0.184098 0.182762 0.18141  0.180043 0.178662\n",
      " 0.17727  0.175867 0.174454 0.173033 0.171603 0.170167 0.168724 0.167276\n",
      " 0.165822 0.164364 0.162901 0.161435 0.159965 0.158493 0.157017 0.15554\n",
      " 0.15406  0.152577 0.151094 0.149608 0.148121 0.146633 0.145144 0.143653\n",
      " 0.142162 0.14067  0.139176 0.137683 0.136188 0.134693 0.133198 0.131702\n",
      " 0.130206 0.128709 0.127212 0.125715 0.124217 0.122719 0.121221 0.119723\n",
      " 0.118225 0.116726 0.115227 0.113729 0.11223  0.110731 0.109231 0.107732\n",
      " 0.106233 0.104734 0.103234 0.101735 0.100235 0.098735 0.097236 0.095736\n",
      " 0.094236 0.092737 0.091237 0.089737 0.088237 0.086738 0.085238 0.083738\n",
      " 0.082238 0.080738 0.079238 0.077738 0.076238 0.074738 0.073238 0.071739\n",
      " 0.070239 0.068739 0.067239 0.065739 0.064239 0.062739 0.061239 0.060039\n",
      " 0.059109 0.058422 0.057954 0.057682 0.057588 0.057653 0.057862 0.058199\n",
      " 0.058653 0.059212 0.059865 0.060602 0.061416 0.062298 0.062942 0.063372\n",
      " 0.063609 0.063672 0.063578 0.063344 0.062984 0.062509 0.061932 0.061563\n",
      " 0.061381 0.061367 0.061504 0.061777 0.062173 0.06238  0.062416 0.062298\n",
      " 0.062042 0.061962 0.06204  0.06226  0.062308 0.062201 0.061955 0.061883\n",
      " 0.061969 0.062196 0.06225  0.062149 0.061908 0.061841 0.061931 0.062162\n",
      " 0.062219 0.062121 0.061883 0.061819 0.061911 0.062144 0.062203 0.062107\n",
      " 0.06217  0.062077 0.062143 0.062053 0.062121 0.062033 0.062104 0.062317\n",
      " 0.062359 0.062247 0.061997 0.061921 0.062003 0.062226 0.062278 0.062174\n",
      " 0.06193  0.061861 0.061949 0.062178 0.062234 0.062135 0.061895 0.061829\n",
      " 0.06192  0.062152 0.062211 0.062114 0.062121 0.061978 0.061999 0.062167\n",
      " 0.062169 0.062021 0.062038 0.062203 0.062201 0.06205  0.062063 0.062226]\n"
     ]
    }
   ],
   "source": [
    "print(epsilon_history)"
   ]
  },
  {
   "cell_type": "code",
   "execution_count": 17,
   "metadata": {},
   "outputs": [
    {
     "name": "stdout",
     "output_type": "stream",
     "text": [
      "[ 89.26876  89.3934   89.63052  89.96945  90.40075  90.91607  91.50802\n",
      "  92.17     92.89613  93.68114  94.52032  95.4094   96.34457  97.32236\n",
      "  98.33964  99.39355 100.4815  101.6012  102.7503  103.927   105.1294\n",
      " 106.3559  107.6048  108.8748  110.1645  111.4727  112.7982  114.1399\n",
      " 115.4968  116.868   118.2524  119.6494  121.0579  122.4772  123.9067\n",
      " 125.3454  126.7927  128.248   129.7105  131.1795  132.6546  134.1349\n",
      " 135.6198  137.1088  138.6013  140.0965  141.594   143.0931  144.5931\n",
      " 146.0935  147.5936  149.0929  150.5907  152.0864  153.5794  155.0689\n",
      " 156.5544  158.0352  159.5107  160.9801  162.4428  163.8981  165.3452\n",
      " 166.7835  168.2122  169.6305  171.0377  172.433   173.8156  175.1847\n",
      " 176.5393  177.8786  179.2018  180.5078  181.7958  183.0646  184.3133\n",
      " 185.5408  186.746   187.9276  189.0845  190.2153  191.3187  192.3933\n",
      " 193.4376  194.45    195.4288  196.3721  197.2782  198.145   198.9702\n",
      " 199.7516  200.4867  201.1728  201.8071  202.3863  202.9073  203.3662\n",
      " 203.7593  204.0823  204.3305  204.4989  204.582   204.574   204.4976\n",
      " 204.3931  204.2894  204.2054  204.1516  204.1321  204.1456  204.1876\n",
      " 204.2509  204.3269  204.4067  204.4811  204.5415  204.5799  204.5894\n",
      " 204.576   204.5577  204.5445  204.5407  204.5463  204.5591  204.5745\n",
      " 204.5869  204.5895  204.5838  204.5788  204.5784  204.5823  204.5878\n",
      " 204.5901  204.5887  204.5882  204.5894  204.59    204.5897  204.59\n",
      " 204.5897  204.5893  204.59    204.5896  204.589   204.5897  204.59\n",
      " 204.5897  204.5901  204.5893  204.5886  204.5894  204.5901  204.5899\n",
      " 204.5901  204.589   204.5883  204.5893  204.5901  204.59    204.5901\n",
      " 204.5901  204.5901  204.5901  204.5901  204.5901  204.59    204.5901\n",
      " 204.5893  204.5889  204.5898  204.5899  204.5894  204.5899  204.5899\n",
      " 204.5896  204.5901  204.5894  204.5888  204.5896  204.59    204.5898\n",
      " 204.5901  204.5891  204.5885  204.5894  204.5901  204.5899  204.5901\n",
      " 204.5901  204.5898  204.5899  204.5901  204.5901  204.59    204.59\n",
      " 204.59    204.59    204.5901  204.5901 ]\n"
     ]
    }
   ],
   "source": [
    "QFI_history = qfi_data[:, 3]\n",
    "print(QFI_history)"
   ]
  },
  {
   "cell_type": "code",
   "execution_count": 11,
   "metadata": {},
   "outputs": [
    {
     "name": "stdout",
     "output_type": "stream",
     "text": [
      "0.0\n"
     ]
    }
   ],
   "source": [
    "test_ep = db_to_epsilon(10.0043)\n",
    "W_ideal_1 = prepare_gkp_state(epsilon=test_ep, eta=1.0, gamma=0.0)\n",
    "W_ideal_2 = prepare_gkp_state(epsilon=test_ep, eta=1.0, gamma=0.0)\n",
    "\n",
    "print(compute_wigner_mse(W_ideal_1, W_ideal_2, quad_axis))"
   ]
  },
  {
   "cell_type": "code",
   "execution_count": 21,
   "metadata": {},
   "outputs": [
    {
     "name": "stdout",
     "output_type": "stream",
     "text": [
      "Calculating marginal MSE for ε optimization...\n"
     ]
    },
    {
     "name": "stderr",
     "output_type": "stream",
     "text": [
      "Computing Marginal MSE (ε): 100%|██████████| 200/200 [49:15<00:00, 14.78s/it]\n"
     ]
    },
    {
     "data": {
      "image/png": "[encoded data removed]",
      "text/plain": [
       "<Figure size 1000x600 with 1 Axes>"
      ]
     },
     "metadata": {},
     "output_type": "display_data"
    }
   ],
   "source": [
    "import numpy as np\n",
    "import matplotlib.pyplot as plt\n",
    "from tqdm import tqdm\n",
    "import strawberryfields as sf\n",
    "\n",
    "# --- File Paths ---\n",
    "filename_qfi = \"C:/Users/tvle2/Documents/Code/Bosonic/dataset/QFI/gkp_optimization_eta0.9_delta0.01_init7.txt\"\n",
    "\n",
    "# --- Parameters ---\n",
    "quad_pts = 200\n",
    "quad_axis = np.linspace(-6, 6, quad_pts)\n",
    "eta, delta = 0.9, 0.01  # Channel parameters\n",
    "\n",
    "# --- Helper Functions ---\n",
    "def db_to_epsilon(db_val):\n",
    "    \"\"\"Convert squeezing in dB to epsilon.\"\"\"\n",
    "    t = 10.0 ** (-db_val / 10.0)\n",
    "    return 0.5 * np.log((1.0 + t) / (1.0 - t))\n",
    "\n",
    "def prepare_gkp_state(epsilon, eta, gamma, phi=0.0):\n",
    "    \"\"\"Prepare GKP state under loss (eta) and dephasing (gamma), returning its Wigner function.\"\"\"\n",
    "    prog = sf.Program(1)\n",
    "    eng = sf.Engine(\"bosonic\", backend_options={\"cutoff_dim\": 32})\n",
    "\n",
    "    phi_std = np.sqrt(gamma)\n",
    "    if gamma < 1e-12:\n",
    "        with prog.context as q:\n",
    "            sf.ops.GKP(state=[0, 0], epsilon=epsilon) | q[0]\n",
    "            if eta < 1.0:\n",
    "                sf.ops.LossChannel(eta) | q[0]\n",
    "            sf.ops.Rgate(phi) | q[0]\n",
    "        state = eng.run(prog).state\n",
    "        return state.wigner(0, quad_axis, quad_axis)\n",
    "\n",
    "    # Approximate dephasing by averaging\n",
    "    phis = np.linspace(-3 * phi_std, 3 * phi_std, 15)\n",
    "    weights = np.exp(-0.5 * (phis / phi_std)**2)\n",
    "    weights /= weights.sum()\n",
    "\n",
    "    wigner_avg = np.zeros((quad_pts, quad_pts), dtype=float)\n",
    "    for phi_val, w in zip(phis, weights):\n",
    "        prog = sf.Program(1)\n",
    "        with prog.context as q:\n",
    "            sf.ops.GKP(state=[0, 0], epsilon=epsilon) | q[0]\n",
    "            sf.ops.LossChannel(eta) | q[0]\n",
    "            sf.ops.Rgate(phi_val) | q[0]\n",
    "        state = eng.run(prog).state\n",
    "        wigner_avg += w * state.wigner(0, quad_axis, quad_axis)\n",
    "\n",
    "    return wigner_avg\n",
    "\n",
    "def marginal_from_wigner(W, xvec, phi):\n",
    "    \"\"\"Compute marginal distribution from the Wigner function at angle phi.\"\"\"\n",
    "    Q, P = np.meshgrid(xvec, xvec, indexing='xy')\n",
    "    dq = xvec[1] - xvec[0]\n",
    "\n",
    "    X = Q * np.cos(phi) + P * np.sin(phi)\n",
    "\n",
    "    bin_indices = np.floor((X - xvec[0]) / dq).astype(int)\n",
    "    valid_bins = (bin_indices >= 0) & (bin_indices < len(xvec))\n",
    "\n",
    "    P_x_mu = np.bincount(bin_indices[valid_bins].ravel(),\n",
    "                         weights=W[valid_bins].ravel() * dq**2,\n",
    "                         minlength=len(xvec))\n",
    "\n",
    "    norm = np.trapz(P_x_mu, xvec)\n",
    "    if norm > 1e-15:\n",
    "        P_x_mu /= norm\n",
    "    return P_x_mu\n",
    "\n",
    "def compute_marginal_mse_epsilon(epsilon_values):\n",
    "    \"\"\"Compute marginal MSE for epsilon optimization.\"\"\"\n",
    "    mse_values = []\n",
    "\n",
    "    phi_fixed = np.pi/4   # fixed quadrature angle for measurement\n",
    "\n",
    "    for epsilon in tqdm(epsilon_values, desc=\"Computing Marginal MSE (ε)\"):\n",
    "        W_ideal = prepare_gkp_state(epsilon=epsilon, eta=1.0, gamma=0.0)\n",
    "        W_noisy = prepare_gkp_state(epsilon=epsilon, eta=eta, gamma=delta)\n",
    "\n",
    "        P_ideal = marginal_from_wigner(W_ideal, quad_axis, phi=phi_fixed)\n",
    "        P_noisy = marginal_from_wigner(W_noisy, quad_axis, phi=phi_fixed)\n",
    "\n",
    "        mse = np.trapz((P_noisy - P_ideal)**2, quad_axis)\n",
    "        mse_values.append(mse)\n",
    "\n",
    "    return mse_values\n",
    "\n",
    "# --- Main Execution ---\n",
    "if __name__ == \"__main__\":\n",
    "    qfi_data = np.loadtxt(filename_qfi, delimiter='\\t', skiprows=1)\n",
    "    epsilon_history = qfi_data[:, 1]\n",
    "\n",
    "    print(\"Calculating marginal MSE for ε optimization...\")\n",
    "    mse_epsilon_marginal = compute_marginal_mse_epsilon(epsilon_history)\n",
    "\n",
    "    plt.figure(figsize=(10, 6))\n",
    "    plt.plot(mse_epsilon_marginal, label='ε Optimization (Marginal MSE)', color='green')\n",
    "    plt.xlabel('Optimization Step')\n",
    "    plt.ylabel('Marginal Distribution MSE')\n",
    "    plt.title('GKP State Fidelity: ε Optimization (Marginal Distribution)')\n",
    "    plt.legend()\n",
    "    plt.grid(True)\n",
    "    plt.show()\n"
   ]
  },
  {
   "cell_type": "code",
   "execution_count": 2,
   "metadata": {},
   "outputs": [
    {
     "name": "stdout",
     "output_type": "stream",
     "text": [
      "Initial epsilon: 0.0632 (12.00 dB)\n"
     ]
    },
    {
     "name": "stderr",
     "output_type": "stream",
     "text": [
      "Optimizing epsilon:   0%|          | 1/200 [05:52<19:29:15, 352.54s/it]"
     ]
    },
    {
     "name": "stdout",
     "output_type": "stream",
     "text": [
      "Step 0: ε=0.0632 (12.00 dB), QFI=2.046e+02, MSE=7.572e-02, Cost=1.089e+02\n"
     ]
    },
    {
     "name": "stderr",
     "output_type": "stream",
     "text": [
      "Optimizing epsilon:   1%|          | 2/200 [11:47<19:27:58, 353.93s/it]"
     ]
    },
    {
     "name": "stdout",
     "output_type": "stream",
     "text": [
      "Step 1: ε=0.0633 (11.99 dB), QFI=2.046e+02, MSE=7.565e-02, Cost=1.089e+02\n"
     ]
    },
    {
     "name": "stderr",
     "output_type": "stream",
     "text": [
      "Optimizing epsilon:   2%|▏         | 3/200 [17:41<19:22:51, 354.17s/it]"
     ]
    },
    {
     "name": "stdout",
     "output_type": "stream",
     "text": [
      "Step 2: ε=0.0635 (11.98 dB), QFI=2.046e+02, MSE=7.551e-02, Cost=1.089e+02\n"
     ]
    },
    {
     "name": "stderr",
     "output_type": "stream",
     "text": [
      "Optimizing epsilon:   2%|▏         | 4/200 [23:35<19:16:23, 354.00s/it]"
     ]
    },
    {
     "name": "stdout",
     "output_type": "stream",
     "text": [
      "Step 3: ε=0.0636 (11.97 dB), QFI=2.046e+02, MSE=7.532e-02, Cost=1.089e+02\n"
     ]
    },
    {
     "name": "stderr",
     "output_type": "stream",
     "text": [
      "Optimizing epsilon:   2%|▎         | 5/200 [29:28<19:09:28, 353.68s/it]"
     ]
    },
    {
     "name": "stdout",
     "output_type": "stream",
     "text": [
      "Step 4: ε=0.0638 (11.96 dB), QFI=2.045e+02, MSE=7.507e-02, Cost=1.089e+02\n"
     ]
    },
    {
     "name": "stderr",
     "output_type": "stream",
     "text": [
      "Optimizing epsilon:   3%|▎         | 6/200 [35:20<19:01:22, 353.01s/it]"
     ]
    },
    {
     "name": "stdout",
     "output_type": "stream",
     "text": [
      "Step 5: ε=0.0641 (11.94 dB), QFI=2.045e+02, MSE=7.478e-02, Cost=1.090e+02\n"
     ]
    },
    {
     "name": "stderr",
     "output_type": "stream",
     "text": [
      "Optimizing epsilon:   4%|▎         | 7/200 [41:11<18:53:33, 352.40s/it]"
     ]
    },
    {
     "name": "stdout",
     "output_type": "stream",
     "text": [
      "Step 6: ε=0.0643 (11.92 dB), QFI=2.045e+02, MSE=7.444e-02, Cost=1.090e+02\n"
     ]
    },
    {
     "name": "stderr",
     "output_type": "stream",
     "text": [
      "Optimizing epsilon:   4%|▍         | 8/200 [47:00<18:43:48, 351.19s/it]"
     ]
    },
    {
     "name": "stdout",
     "output_type": "stream",
     "text": [
      "Step 7: ε=0.0646 (11.90 dB), QFI=2.045e+02, MSE=7.407e-02, Cost=1.090e+02\n"
     ]
    },
    {
     "name": "stderr",
     "output_type": "stream",
     "text": [
      "Optimizing epsilon:   4%|▍         | 9/200 [52:50<18:36:35, 350.76s/it]"
     ]
    },
    {
     "name": "stdout",
     "output_type": "stream",
     "text": [
      "Step 8: ε=0.0649 (11.88 dB), QFI=2.045e+02, MSE=7.368e-02, Cost=1.090e+02\n"
     ]
    },
    {
     "name": "stderr",
     "output_type": "stream",
     "text": [
      "Optimizing epsilon:   5%|▌         | 10/200 [58:34<18:24:46, 348.88s/it]"
     ]
    },
    {
     "name": "stdout",
     "output_type": "stream",
     "text": [
      "Step 9: ε=0.0652 (11.86 dB), QFI=2.044e+02, MSE=7.325e-02, Cost=1.090e+02\n"
     ]
    },
    {
     "name": "stderr",
     "output_type": "stream",
     "text": [
      "Optimizing epsilon:   6%|▌         | 11/200 [1:04:17<18:13:12, 347.05s/it]"
     ]
    },
    {
     "name": "stdout",
     "output_type": "stream",
     "text": [
      "Step 10: ε=0.0656 (11.84 dB), QFI=2.044e+02, MSE=7.281e-02, Cost=1.091e+02\n"
     ]
    },
    {
     "name": "stderr",
     "output_type": "stream",
     "text": [
      "Optimizing epsilon:   6%|▌         | 12/200 [1:10:01<18:04:06, 345.99s/it]"
     ]
    },
    {
     "name": "stdout",
     "output_type": "stream",
     "text": [
      "Step 11: ε=0.0660 (11.81 dB), QFI=2.044e+02, MSE=7.234e-02, Cost=1.091e+02\n"
     ]
    },
    {
     "name": "stderr",
     "output_type": "stream",
     "text": [
      "Optimizing epsilon:   6%|▋         | 13/200 [1:15:44<17:55:28, 345.07s/it]"
     ]
    },
    {
     "name": "stdout",
     "output_type": "stream",
     "text": [
      "Step 12: ε=0.0663 (11.79 dB), QFI=2.043e+02, MSE=7.186e-02, Cost=1.091e+02\n"
     ]
    },
    {
     "name": "stderr",
     "output_type": "stream",
     "text": [
      "Optimizing epsilon:   7%|▋         | 14/200 [1:21:24<17:45:36, 343.74s/it]"
     ]
    },
    {
     "name": "stdout",
     "output_type": "stream",
     "text": [
      "Step 13: ε=0.0667 (11.76 dB), QFI=2.042e+02, MSE=7.137e-02, Cost=1.091e+02\n"
     ]
    },
    {
     "name": "stderr",
     "output_type": "stream",
     "text": [
      "Optimizing epsilon:   8%|▊         | 15/200 [1:27:03<17:34:56, 342.14s/it]"
     ]
    },
    {
     "name": "stdout",
     "output_type": "stream",
     "text": [
      "Step 14: ε=0.0671 (11.74 dB), QFI=2.042e+02, MSE=7.086e-02, Cost=1.091e+02\n"
     ]
    },
    {
     "name": "stderr",
     "output_type": "stream",
     "text": [
      "Optimizing epsilon:   8%|▊         | 16/200 [1:32:43<17:27:10, 341.47s/it]"
     ]
    },
    {
     "name": "stdout",
     "output_type": "stream",
     "text": [
      "Step 15: ε=0.0675 (11.71 dB), QFI=2.041e+02, MSE=7.035e-02, Cost=1.092e+02\n"
     ]
    },
    {
     "name": "stderr",
     "output_type": "stream",
     "text": [
      "Optimizing epsilon:   8%|▊         | 17/200 [1:38:20<17:17:33, 340.18s/it]"
     ]
    },
    {
     "name": "stdout",
     "output_type": "stream",
     "text": [
      "Step 16: ε=0.0679 (11.69 dB), QFI=2.040e+02, MSE=6.983e-02, Cost=1.092e+02\n"
     ]
    },
    {
     "name": "stderr",
     "output_type": "stream",
     "text": [
      "Optimizing epsilon:   9%|▉         | 18/200 [1:43:55<17:07:11, 338.63s/it]"
     ]
    },
    {
     "name": "stdout",
     "output_type": "stream",
     "text": [
      "Step 17: ε=0.0684 (11.66 dB), QFI=2.039e+02, MSE=6.931e-02, Cost=1.092e+02\n"
     ]
    },
    {
     "name": "stderr",
     "output_type": "stream",
     "text": [
      "Optimizing epsilon:  10%|▉         | 19/200 [1:49:29<16:57:39, 337.34s/it]"
     ]
    },
    {
     "name": "stdout",
     "output_type": "stream",
     "text": [
      "Step 18: ε=0.0688 (11.63 dB), QFI=2.038e+02, MSE=6.878e-02, Cost=1.092e+02\n"
     ]
    },
    {
     "name": "stderr",
     "output_type": "stream",
     "text": [
      "Optimizing epsilon:  10%|█         | 20/200 [1:55:03<16:48:34, 336.19s/it]"
     ]
    },
    {
     "name": "stdout",
     "output_type": "stream",
     "text": [
      "Step 19: ε=0.0692 (11.60 dB), QFI=2.037e+02, MSE=6.825e-02, Cost=1.092e+02\n"
     ]
    },
    {
     "name": "stderr",
     "output_type": "stream",
     "text": [
      "Optimizing epsilon:  10%|█         | 21/200 [2:00:35<16:39:46, 335.12s/it]"
     ]
    },
    {
     "name": "stdout",
     "output_type": "stream",
     "text": [
      "Step 20: ε=0.0697 (11.58 dB), QFI=2.036e+02, MSE=6.772e-02, Cost=1.092e+02\n"
     ]
    },
    {
     "name": "stderr",
     "output_type": "stream",
     "text": [
      "Optimizing epsilon:  11%|█         | 22/200 [2:06:05<16:29:39, 333.59s/it]"
     ]
    },
    {
     "name": "stdout",
     "output_type": "stream",
     "text": [
      "Step 21: ε=0.0700 (11.55 dB), QFI=2.035e+02, MSE=6.719e-02, Cost=1.092e+02\n"
     ]
    },
    {
     "name": "stderr",
     "output_type": "stream",
     "text": [
      "Optimizing epsilon:  12%|█▏        | 23/200 [2:11:32<16:17:58, 331.52s/it]"
     ]
    },
    {
     "name": "stdout",
     "output_type": "stream",
     "text": [
      "Step 22: ε=0.0703 (11.54 dB), QFI=2.034e+02, MSE=6.678e-02, Cost=1.092e+02\n"
     ]
    },
    {
     "name": "stderr",
     "output_type": "stream",
     "text": [
      "Optimizing epsilon:  12%|█▏        | 24/200 [2:16:59<16:08:28, 330.16s/it]"
     ]
    },
    {
     "name": "stdout",
     "output_type": "stream",
     "text": [
      "Step 23: ε=0.0705 (11.53 dB), QFI=2.034e+02, MSE=6.647e-02, Cost=1.092e+02\n"
     ]
    },
    {
     "name": "stderr",
     "output_type": "stream",
     "text": [
      "Optimizing epsilon:  12%|█▎        | 25/200 [2:22:22<15:56:33, 327.96s/it]"
     ]
    },
    {
     "name": "stdout",
     "output_type": "stream",
     "text": [
      "Step 24: ε=0.0706 (11.52 dB), QFI=2.033e+02, MSE=6.625e-02, Cost=1.092e+02\n"
     ]
    },
    {
     "name": "stderr",
     "output_type": "stream",
     "text": [
      "Optimizing epsilon:  13%|█▎        | 26/200 [2:27:54<15:54:45, 329.23s/it]"
     ]
    },
    {
     "name": "stdout",
     "output_type": "stream",
     "text": [
      "Step 25: ε=0.0707 (11.52 dB), QFI=2.033e+02, MSE=6.612e-02, Cost=1.092e+02\n"
     ]
    },
    {
     "name": "stderr",
     "output_type": "stream",
     "text": [
      "Optimizing epsilon:  14%|█▎        | 27/200 [2:33:19<15:45:37, 327.96s/it]"
     ]
    },
    {
     "name": "stdout",
     "output_type": "stream",
     "text": [
      "Step 26: ε=0.0707 (11.52 dB), QFI=2.032e+02, MSE=6.605e-02, Cost=1.092e+02\n"
     ]
    },
    {
     "name": "stderr",
     "output_type": "stream",
     "text": [
      "Optimizing epsilon:  14%|█▍        | 28/200 [2:38:45<15:38:08, 327.26s/it]"
     ]
    },
    {
     "name": "stdout",
     "output_type": "stream",
     "text": [
      "Step 27: ε=0.0706 (11.52 dB), QFI=2.032e+02, MSE=6.605e-02, Cost=1.092e+02\n"
     ]
    },
    {
     "name": "stderr",
     "output_type": "stream",
     "text": [
      "Optimizing epsilon:  14%|█▍        | 29/200 [2:44:11<15:31:33, 326.86s/it]"
     ]
    },
    {
     "name": "stdout",
     "output_type": "stream",
     "text": [
      "Step 28: ε=0.0705 (11.52 dB), QFI=2.033e+02, MSE=6.610e-02, Cost=1.092e+02\n"
     ]
    },
    {
     "name": "stderr",
     "output_type": "stream",
     "text": [
      "Optimizing epsilon:  15%|█▌        | 30/200 [2:49:36<15:24:42, 326.37s/it]"
     ]
    },
    {
     "name": "stdout",
     "output_type": "stream",
     "text": [
      "Step 29: ε=0.0704 (11.53 dB), QFI=2.033e+02, MSE=6.621e-02, Cost=1.092e+02\n"
     ]
    },
    {
     "name": "stderr",
     "output_type": "stream",
     "text": [
      "Optimizing epsilon:  16%|█▌        | 31/200 [2:55:05<15:21:53, 327.30s/it]"
     ]
    },
    {
     "name": "stdout",
     "output_type": "stream",
     "text": [
      "Step 30: ε=0.0702 (11.54 dB), QFI=2.033e+02, MSE=6.636e-02, Cost=1.092e+02\n"
     ]
    },
    {
     "name": "stderr",
     "output_type": "stream",
     "text": [
      "Optimizing epsilon:  16%|█▌        | 32/200 [3:00:34<15:18:00, 327.86s/it]"
     ]
    },
    {
     "name": "stdout",
     "output_type": "stream",
     "text": [
      "Step 31: ε=0.0700 (11.56 dB), QFI=2.034e+02, MSE=6.656e-02, Cost=1.092e+02\n"
     ]
    },
    {
     "name": "stderr",
     "output_type": "stream",
     "text": [
      "Optimizing epsilon:  16%|█▋        | 33/200 [3:06:03<15:13:27, 328.19s/it]"
     ]
    },
    {
     "name": "stdout",
     "output_type": "stream",
     "text": [
      "Step 32: ε=0.0698 (11.57 dB), QFI=2.034e+02, MSE=6.680e-02, Cost=1.092e+02\n"
     ]
    },
    {
     "name": "stderr",
     "output_type": "stream",
     "text": [
      "Optimizing epsilon:  17%|█▋        | 34/200 [3:11:35<15:11:08, 329.33s/it]"
     ]
    },
    {
     "name": "stdout",
     "output_type": "stream",
     "text": [
      "Step 33: ε=0.0695 (11.59 dB), QFI=2.035e+02, MSE=6.707e-02, Cost=1.092e+02\n"
     ]
    },
    {
     "name": "stderr",
     "output_type": "stream",
     "text": [
      "Optimizing epsilon:  18%|█▊        | 35/200 [3:17:07<15:07:48, 330.11s/it]"
     ]
    },
    {
     "name": "stdout",
     "output_type": "stream",
     "text": [
      "Step 34: ε=0.0692 (11.60 dB), QFI=2.036e+02, MSE=6.738e-02, Cost=1.092e+02\n"
     ]
    },
    {
     "name": "stderr",
     "output_type": "stream",
     "text": [
      "Optimizing epsilon:  18%|█▊        | 36/200 [3:22:40<15:04:34, 330.94s/it]"
     ]
    },
    {
     "name": "stdout",
     "output_type": "stream",
     "text": [
      "Step 35: ε=0.0690 (11.62 dB), QFI=2.036e+02, MSE=6.772e-02, Cost=1.092e+02\n"
     ]
    },
    {
     "name": "stderr",
     "output_type": "stream",
     "text": [
      "Optimizing epsilon:  18%|█▊        | 37/200 [3:28:14<15:01:02, 331.67s/it]"
     ]
    },
    {
     "name": "stdout",
     "output_type": "stream",
     "text": [
      "Step 36: ε=0.0689 (11.63 dB), QFI=2.037e+02, MSE=6.796e-02, Cost=1.092e+02\n"
     ]
    },
    {
     "name": "stderr",
     "output_type": "stream",
     "text": [
      "Optimizing epsilon:  19%|█▉        | 38/200 [3:33:48<14:57:30, 332.41s/it]"
     ]
    },
    {
     "name": "stdout",
     "output_type": "stream",
     "text": [
      "Step 37: ε=0.0688 (11.63 dB), QFI=2.037e+02, MSE=6.813e-02, Cost=1.092e+02\n"
     ]
    },
    {
     "name": "stderr",
     "output_type": "stream",
     "text": [
      "Optimizing epsilon:  20%|█▉        | 39/200 [3:39:21<14:52:40, 332.67s/it]"
     ]
    },
    {
     "name": "stdout",
     "output_type": "stream",
     "text": [
      "Step 38: ε=0.0688 (11.63 dB), QFI=2.037e+02, MSE=6.821e-02, Cost=1.092e+02\n"
     ]
    },
    {
     "name": "stderr",
     "output_type": "stream",
     "text": [
      "Optimizing epsilon:  20%|██        | 40/200 [3:44:55<14:48:15, 333.10s/it]"
     ]
    },
    {
     "name": "stdout",
     "output_type": "stream",
     "text": [
      "Step 39: ε=0.0688 (11.63 dB), QFI=2.037e+02, MSE=6.823e-02, Cost=1.092e+02\n"
     ]
    },
    {
     "name": "stderr",
     "output_type": "stream",
     "text": [
      "Optimizing epsilon:  20%|██        | 41/200 [3:50:28<14:42:53, 333.17s/it]"
     ]
    },
    {
     "name": "stdout",
     "output_type": "stream",
     "text": [
      "Step 40: ε=0.0689 (11.62 dB), QFI=2.037e+02, MSE=6.818e-02, Cost=1.092e+02\n"
     ]
    },
    {
     "name": "stderr",
     "output_type": "stream",
     "text": [
      "Optimizing epsilon:  21%|██        | 42/200 [3:56:03<14:38:46, 333.71s/it]"
     ]
    },
    {
     "name": "stdout",
     "output_type": "stream",
     "text": [
      "Step 41: ε=0.0691 (11.62 dB), QFI=2.037e+02, MSE=6.808e-02, Cost=1.092e+02\n"
     ]
    },
    {
     "name": "stderr",
     "output_type": "stream",
     "text": [
      "Optimizing epsilon:  22%|██▏       | 43/200 [4:01:38<14:34:17, 334.13s/it]"
     ]
    },
    {
     "name": "stdout",
     "output_type": "stream",
     "text": [
      "Step 42: ε=0.0692 (11.60 dB), QFI=2.037e+02, MSE=6.793e-02, Cost=1.092e+02\n"
     ]
    },
    {
     "name": "stderr",
     "output_type": "stream",
     "text": [
      "Optimizing epsilon:  22%|██▏       | 44/200 [4:07:15<14:30:34, 334.83s/it]"
     ]
    },
    {
     "name": "stdout",
     "output_type": "stream",
     "text": [
      "Step 43: ε=0.0694 (11.59 dB), QFI=2.036e+02, MSE=6.774e-02, Cost=1.092e+02\n"
     ]
    },
    {
     "name": "stderr",
     "output_type": "stream",
     "text": [
      "Optimizing epsilon:  22%|██▎       | 45/200 [4:12:48<14:23:17, 334.18s/it]"
     ]
    },
    {
     "name": "stdout",
     "output_type": "stream",
     "text": [
      "Step 44: ε=0.0696 (11.58 dB), QFI=2.036e+02, MSE=6.750e-02, Cost=1.092e+02\n"
     ]
    },
    {
     "name": "stderr",
     "output_type": "stream",
     "text": [
      "Optimizing epsilon:  23%|██▎       | 46/200 [4:18:20<14:16:39, 333.76s/it]"
     ]
    },
    {
     "name": "stdout",
     "output_type": "stream",
     "text": [
      "Step 45: ε=0.0698 (11.57 dB), QFI=2.035e+02, MSE=6.723e-02, Cost=1.092e+02\n"
     ]
    },
    {
     "name": "stderr",
     "output_type": "stream",
     "text": [
      "Optimizing epsilon:  24%|██▎       | 47/200 [4:23:51<14:08:45, 332.85s/it]"
     ]
    },
    {
     "name": "stdout",
     "output_type": "stream",
     "text": [
      "Step 46: ε=0.0699 (11.56 dB), QFI=2.035e+02, MSE=6.705e-02, Cost=1.092e+02\n"
     ]
    },
    {
     "name": "stderr",
     "output_type": "stream",
     "text": [
      "Optimizing epsilon:  24%|██▍       | 48/200 [4:29:21<14:01:13, 332.06s/it]"
     ]
    },
    {
     "name": "stdout",
     "output_type": "stream",
     "text": [
      "Step 47: ε=0.0699 (11.56 dB), QFI=2.035e+02, MSE=6.695e-02, Cost=1.092e+02\n"
     ]
    },
    {
     "name": "stderr",
     "output_type": "stream",
     "text": [
      "Optimizing epsilon:  24%|██▍       | 49/200 [4:34:52<13:54:28, 331.58s/it]"
     ]
    },
    {
     "name": "stdout",
     "output_type": "stream",
     "text": [
      "Step 48: ε=0.0699 (11.56 dB), QFI=2.035e+02, MSE=6.691e-02, Cost=1.092e+02\n"
     ]
    },
    {
     "name": "stderr",
     "output_type": "stream",
     "text": [
      "Optimizing epsilon:  25%|██▌       | 50/200 [4:40:22<13:47:55, 331.17s/it]"
     ]
    },
    {
     "name": "stdout",
     "output_type": "stream",
     "text": [
      "Step 49: ε=0.0698 (11.57 dB), QFI=2.035e+02, MSE=6.694e-02, Cost=1.092e+02\n"
     ]
    },
    {
     "name": "stderr",
     "output_type": "stream",
     "text": [
      "Optimizing epsilon:  26%|██▌       | 51/200 [4:45:52<13:41:50, 330.94s/it]"
     ]
    },
    {
     "name": "stdout",
     "output_type": "stream",
     "text": [
      "Step 50: ε=0.0697 (11.57 dB), QFI=2.035e+02, MSE=6.702e-02, Cost=1.092e+02\n"
     ]
    },
    {
     "name": "stderr",
     "output_type": "stream",
     "text": [
      "Optimizing epsilon:  26%|██▌       | 52/200 [4:51:25<13:37:39, 331.49s/it]"
     ]
    },
    {
     "name": "stdout",
     "output_type": "stream",
     "text": [
      "Step 51: ε=0.0696 (11.58 dB), QFI=2.035e+02, MSE=6.716e-02, Cost=1.092e+02\n"
     ]
    },
    {
     "name": "stderr",
     "output_type": "stream",
     "text": [
      "Optimizing epsilon:  26%|██▋       | 53/200 [4:56:57<13:32:17, 331.55s/it]"
     ]
    },
    {
     "name": "stdout",
     "output_type": "stream",
     "text": [
      "Step 52: ε=0.0694 (11.60 dB), QFI=2.036e+02, MSE=6.734e-02, Cost=1.092e+02\n"
     ]
    },
    {
     "name": "stderr",
     "output_type": "stream",
     "text": [
      "Optimizing epsilon:  27%|██▋       | 54/200 [5:02:29<13:26:59, 331.64s/it]"
     ]
    },
    {
     "name": "stdout",
     "output_type": "stream",
     "text": [
      "Step 53: ε=0.0692 (11.60 dB), QFI=2.036e+02, MSE=6.756e-02, Cost=1.092e+02\n"
     ]
    },
    {
     "name": "stderr",
     "output_type": "stream",
     "text": [
      "Optimizing epsilon:  28%|██▊       | 55/200 [5:08:05<13:24:27, 332.88s/it]"
     ]
    },
    {
     "name": "stdout",
     "output_type": "stream",
     "text": [
      "Step 54: ε=0.0692 (11.61 dB), QFI=2.036e+02, MSE=6.770e-02, Cost=1.092e+02\n"
     ]
    },
    {
     "name": "stderr",
     "output_type": "stream",
     "text": [
      "Optimizing epsilon:  28%|██▊       | 56/200 [5:13:39<13:19:56, 333.31s/it]"
     ]
    },
    {
     "name": "stdout",
     "output_type": "stream",
     "text": [
      "Step 55: ε=0.0692 (11.61 dB), QFI=2.036e+02, MSE=6.777e-02, Cost=1.092e+02\n"
     ]
    },
    {
     "name": "stderr",
     "output_type": "stream",
     "text": [
      "Optimizing epsilon:  28%|██▊       | 57/200 [5:19:12<13:14:14, 333.25s/it]"
     ]
    },
    {
     "name": "stdout",
     "output_type": "stream",
     "text": [
      "Step 56: ε=0.0692 (11.60 dB), QFI=2.036e+02, MSE=6.777e-02, Cost=1.092e+02\n"
     ]
    },
    {
     "name": "stderr",
     "output_type": "stream",
     "text": [
      "Optimizing epsilon:  29%|██▉       | 58/200 [5:24:45<13:08:40, 333.24s/it]"
     ]
    },
    {
     "name": "stdout",
     "output_type": "stream",
     "text": [
      "Step 57: ε=0.0693 (11.60 dB), QFI=2.036e+02, MSE=6.771e-02, Cost=1.092e+02\n"
     ]
    },
    {
     "name": "stderr",
     "output_type": "stream",
     "text": [
      "Optimizing epsilon:  30%|██▉       | 59/200 [5:30:18<13:02:58, 333.18s/it]"
     ]
    },
    {
     "name": "stdout",
     "output_type": "stream",
     "text": [
      "Step 58: ε=0.0695 (11.59 dB), QFI=2.036e+02, MSE=6.760e-02, Cost=1.092e+02\n"
     ]
    },
    {
     "name": "stderr",
     "output_type": "stream",
     "text": [
      "Optimizing epsilon:  30%|███       | 60/200 [5:35:50<12:56:34, 332.82s/it]"
     ]
    },
    {
     "name": "stdout",
     "output_type": "stream",
     "text": [
      "Step 59: ε=0.0696 (11.58 dB), QFI=2.036e+02, MSE=6.744e-02, Cost=1.092e+02\n"
     ]
    },
    {
     "name": "stderr",
     "output_type": "stream",
     "text": [
      "Optimizing epsilon:  30%|███       | 61/200 [5:41:22<12:50:12, 332.46s/it]"
     ]
    },
    {
     "name": "stdout",
     "output_type": "stream",
     "text": [
      "Step 60: ε=0.0697 (11.58 dB), QFI=2.035e+02, MSE=6.727e-02, Cost=1.092e+02\n"
     ]
    },
    {
     "name": "stderr",
     "output_type": "stream",
     "text": [
      "Optimizing epsilon:  31%|███       | 62/200 [5:46:54<12:44:47, 332.52s/it]"
     ]
    },
    {
     "name": "stdout",
     "output_type": "stream",
     "text": [
      "Step 61: ε=0.0697 (11.57 dB), QFI=2.035e+02, MSE=6.717e-02, Cost=1.092e+02\n"
     ]
    },
    {
     "name": "stderr",
     "output_type": "stream",
     "text": [
      "Optimizing epsilon:  32%|███▏      | 63/200 [5:52:27<12:39:11, 332.49s/it]"
     ]
    },
    {
     "name": "stdout",
     "output_type": "stream",
     "text": [
      "Step 62: ε=0.0697 (11.58 dB), QFI=2.035e+02, MSE=6.715e-02, Cost=1.092e+02\n"
     ]
    },
    {
     "name": "stderr",
     "output_type": "stream",
     "text": [
      "Optimizing epsilon:  32%|███▏      | 64/200 [5:57:59<12:33:37, 332.48s/it]"
     ]
    },
    {
     "name": "stdout",
     "output_type": "stream",
     "text": [
      "Step 63: ε=0.0696 (11.58 dB), QFI=2.035e+02, MSE=6.718e-02, Cost=1.092e+02\n"
     ]
    },
    {
     "name": "stderr",
     "output_type": "stream",
     "text": [
      "Optimizing epsilon:  32%|███▎      | 65/200 [6:03:30<12:26:45, 331.89s/it]"
     ]
    },
    {
     "name": "stdout",
     "output_type": "stream",
     "text": [
      "Step 64: ε=0.0695 (11.59 dB), QFI=2.035e+02, MSE=6.727e-02, Cost=1.092e+02\n"
     ]
    },
    {
     "name": "stderr",
     "output_type": "stream",
     "text": [
      "Optimizing epsilon:  33%|███▎      | 66/200 [6:09:00<12:20:08, 331.40s/it]"
     ]
    },
    {
     "name": "stdout",
     "output_type": "stream",
     "text": [
      "Step 65: ε=0.0693 (11.60 dB), QFI=2.036e+02, MSE=6.742e-02, Cost=1.092e+02\n"
     ]
    },
    {
     "name": "stderr",
     "output_type": "stream",
     "text": [
      "Optimizing epsilon:  34%|███▎      | 67/200 [6:14:30<12:13:29, 330.90s/it]"
     ]
    },
    {
     "name": "stdout",
     "output_type": "stream",
     "text": [
      "Step 66: ε=0.0692 (11.60 dB), QFI=2.036e+02, MSE=6.760e-02, Cost=1.092e+02\n"
     ]
    },
    {
     "name": "stderr",
     "output_type": "stream",
     "text": [
      "Optimizing epsilon:  34%|███▍      | 68/200 [6:19:56<12:04:49, 329.47s/it]"
     ]
    },
    {
     "name": "stdout",
     "output_type": "stream",
     "text": [
      "Step 67: ε=0.0692 (11.61 dB), QFI=2.036e+02, MSE=6.771e-02, Cost=1.092e+02\n"
     ]
    },
    {
     "name": "stderr",
     "output_type": "stream",
     "text": [
      "Optimizing epsilon:  34%|███▍      | 69/200 [6:25:24<11:58:20, 329.01s/it]"
     ]
    },
    {
     "name": "stdout",
     "output_type": "stream",
     "text": [
      "Step 68: ε=0.0692 (11.60 dB), QFI=2.036e+02, MSE=6.775e-02, Cost=1.092e+02\n"
     ]
    },
    {
     "name": "stderr",
     "output_type": "stream",
     "text": [
      "Optimizing epsilon:  35%|███▌      | 70/200 [6:30:57<11:55:39, 330.30s/it]"
     ]
    },
    {
     "name": "stdout",
     "output_type": "stream",
     "text": [
      "Step 69: ε=0.0693 (11.60 dB), QFI=2.036e+02, MSE=6.773e-02, Cost=1.092e+02\n"
     ]
    },
    {
     "name": "stderr",
     "output_type": "stream",
     "text": [
      "Optimizing epsilon:  36%|███▌      | 71/200 [6:36:29<11:51:07, 330.76s/it]"
     ]
    },
    {
     "name": "stdout",
     "output_type": "stream",
     "text": [
      "Step 70: ε=0.0694 (11.59 dB), QFI=2.036e+02, MSE=6.765e-02, Cost=1.092e+02\n"
     ]
    },
    {
     "name": "stderr",
     "output_type": "stream",
     "text": [
      "Optimizing epsilon:  36%|███▌      | 72/200 [6:42:00<11:45:46, 330.83s/it]"
     ]
    },
    {
     "name": "stdout",
     "output_type": "stream",
     "text": [
      "Step 71: ε=0.0696 (11.58 dB), QFI=2.036e+02, MSE=6.751e-02, Cost=1.092e+02\n"
     ]
    },
    {
     "name": "stderr",
     "output_type": "stream",
     "text": [
      "Optimizing epsilon:  36%|███▋      | 73/200 [6:47:30<11:39:49, 330.63s/it]"
     ]
    },
    {
     "name": "stdout",
     "output_type": "stream",
     "text": [
      "Step 72: ε=0.0696 (11.58 dB), QFI=2.036e+02, MSE=6.734e-02, Cost=1.092e+02\n"
     ]
    },
    {
     "name": "stderr",
     "output_type": "stream",
     "text": [
      "Optimizing epsilon:  37%|███▋      | 74/200 [6:53:01<11:34:28, 330.70s/it]"
     ]
    },
    {
     "name": "stdout",
     "output_type": "stream",
     "text": [
      "Step 73: ε=0.0697 (11.58 dB), QFI=2.035e+02, MSE=6.723e-02, Cost=1.092e+02\n"
     ]
    },
    {
     "name": "stderr",
     "output_type": "stream",
     "text": [
      "Optimizing epsilon:  38%|███▊      | 75/200 [6:58:32<11:28:51, 330.65s/it]"
     ]
    },
    {
     "name": "stdout",
     "output_type": "stream",
     "text": [
      "Step 74: ε=0.0696 (11.58 dB), QFI=2.035e+02, MSE=6.720e-02, Cost=1.092e+02\n"
     ]
    },
    {
     "name": "stderr",
     "output_type": "stream",
     "text": [
      "Optimizing epsilon:  38%|███▊      | 76/200 [7:04:02<11:23:09, 330.56s/it]"
     ]
    },
    {
     "name": "stdout",
     "output_type": "stream",
     "text": [
      "Step 75: ε=0.0696 (11.58 dB), QFI=2.035e+02, MSE=6.723e-02, Cost=1.092e+02\n"
     ]
    },
    {
     "name": "stderr",
     "output_type": "stream",
     "text": [
      "Optimizing epsilon:  38%|███▊      | 77/200 [7:09:30<11:15:57, 329.73s/it]"
     ]
    },
    {
     "name": "stdout",
     "output_type": "stream",
     "text": [
      "Step 76: ε=0.0694 (11.59 dB), QFI=2.036e+02, MSE=6.732e-02, Cost=1.092e+02\n"
     ]
    },
    {
     "name": "stderr",
     "output_type": "stream",
     "text": [
      "Optimizing epsilon:  39%|███▉      | 78/200 [7:14:58<11:09:41, 329.36s/it]"
     ]
    },
    {
     "name": "stdout",
     "output_type": "stream",
     "text": [
      "Step 77: ε=0.0694 (11.59 dB), QFI=2.036e+02, MSE=6.746e-02, Cost=1.092e+02\n"
     ]
    },
    {
     "name": "stderr",
     "output_type": "stream",
     "text": [
      "Optimizing epsilon:  40%|███▉      | 79/200 [7:20:24<11:02:17, 328.41s/it]"
     ]
    },
    {
     "name": "stdout",
     "output_type": "stream",
     "text": [
      "Step 78: ε=0.0694 (11.59 dB), QFI=2.036e+02, MSE=6.752e-02, Cost=1.092e+02\n"
     ]
    },
    {
     "name": "stderr",
     "output_type": "stream",
     "text": [
      "Optimizing epsilon:  40%|████      | 80/200 [7:25:50<10:55:23, 327.69s/it]"
     ]
    },
    {
     "name": "stdout",
     "output_type": "stream",
     "text": [
      "Step 79: ε=0.0694 (11.59 dB), QFI=2.036e+02, MSE=6.752e-02, Cost=1.092e+02\n"
     ]
    },
    {
     "name": "stderr",
     "output_type": "stream",
     "text": [
      "Optimizing epsilon:  40%|████      | 81/200 [7:31:18<10:49:42, 327.58s/it]"
     ]
    },
    {
     "name": "stdout",
     "output_type": "stream",
     "text": [
      "Step 80: ε=0.0695 (11.58 dB), QFI=2.036e+02, MSE=6.746e-02, Cost=1.092e+02\n"
     ]
    },
    {
     "name": "stderr",
     "output_type": "stream",
     "text": [
      "Optimizing epsilon:  41%|████      | 82/200 [7:36:45<10:44:00, 327.46s/it]"
     ]
    },
    {
     "name": "stdout",
     "output_type": "stream",
     "text": [
      "Step 81: ε=0.0696 (11.58 dB), QFI=2.036e+02, MSE=6.735e-02, Cost=1.092e+02\n"
     ]
    },
    {
     "name": "stderr",
     "output_type": "stream",
     "text": [
      "Optimizing epsilon:  42%|████▏     | 83/200 [7:42:12<10:38:25, 327.40s/it]"
     ]
    },
    {
     "name": "stdout",
     "output_type": "stream",
     "text": [
      "Step 82: ε=0.0696 (11.58 dB), QFI=2.035e+02, MSE=6.730e-02, Cost=1.092e+02\n"
     ]
    },
    {
     "name": "stderr",
     "output_type": "stream",
     "text": [
      "Optimizing epsilon:  42%|████▏     | 84/200 [7:47:42<10:34:31, 328.20s/it]"
     ]
    },
    {
     "name": "stdout",
     "output_type": "stream",
     "text": [
      "Step 83: ε=0.0695 (11.59 dB), QFI=2.036e+02, MSE=6.732e-02, Cost=1.092e+02\n"
     ]
    },
    {
     "name": "stderr",
     "output_type": "stream",
     "text": [
      "Optimizing epsilon:  42%|████▎     | 85/200 [7:53:09<10:28:22, 327.85s/it]"
     ]
    },
    {
     "name": "stdout",
     "output_type": "stream",
     "text": [
      "Step 84: ε=0.0694 (11.59 dB), QFI=2.036e+02, MSE=6.740e-02, Cost=1.092e+02\n"
     ]
    },
    {
     "name": "stderr",
     "output_type": "stream",
     "text": [
      "Optimizing epsilon:  43%|████▎     | 86/200 [7:58:36<10:22:14, 327.49s/it]"
     ]
    },
    {
     "name": "stdout",
     "output_type": "stream",
     "text": [
      "Step 85: ε=0.0693 (11.60 dB), QFI=2.036e+02, MSE=6.753e-02, Cost=1.092e+02\n"
     ]
    },
    {
     "name": "stderr",
     "output_type": "stream",
     "text": [
      "Optimizing epsilon:  44%|████▎     | 87/200 [8:04:03<10:16:19, 327.25s/it]"
     ]
    },
    {
     "name": "stdout",
     "output_type": "stream",
     "text": [
      "Step 86: ε=0.0693 (11.60 dB), QFI=2.036e+02, MSE=6.759e-02, Cost=1.092e+02\n"
     ]
    },
    {
     "name": "stderr",
     "output_type": "stream",
     "text": [
      "Optimizing epsilon:  44%|████▍     | 88/200 [8:09:30<10:10:45, 327.19s/it]"
     ]
    },
    {
     "name": "stdout",
     "output_type": "stream",
     "text": [
      "Step 87: ε=0.0694 (11.59 dB), QFI=2.036e+02, MSE=6.758e-02, Cost=1.092e+02\n"
     ]
    },
    {
     "name": "stderr",
     "output_type": "stream",
     "text": [
      "Optimizing epsilon:  44%|████▍     | 89/200 [8:14:57<10:05:05, 327.08s/it]"
     ]
    },
    {
     "name": "stdout",
     "output_type": "stream",
     "text": [
      "Step 88: ε=0.0695 (11.59 dB), QFI=2.036e+02, MSE=6.751e-02, Cost=1.092e+02\n"
     ]
    },
    {
     "name": "stderr",
     "output_type": "stream",
     "text": [
      "Optimizing epsilon:  45%|████▌     | 90/200 [8:20:24<9:59:43, 327.12s/it] "
     ]
    },
    {
     "name": "stdout",
     "output_type": "stream",
     "text": [
      "Step 89: ε=0.0695 (11.58 dB), QFI=2.036e+02, MSE=6.739e-02, Cost=1.092e+02\n"
     ]
    },
    {
     "name": "stderr",
     "output_type": "stream",
     "text": [
      "Optimizing epsilon:  46%|████▌     | 91/200 [8:25:51<9:54:10, 327.07s/it]"
     ]
    },
    {
     "name": "stdout",
     "output_type": "stream",
     "text": [
      "Step 90: ε=0.0695 (11.59 dB), QFI=2.036e+02, MSE=6.735e-02, Cost=1.092e+02\n"
     ]
    },
    {
     "name": "stderr",
     "output_type": "stream",
     "text": [
      "Optimizing epsilon:  46%|████▌     | 92/200 [8:31:18<9:48:40, 327.04s/it]"
     ]
    },
    {
     "name": "stdout",
     "output_type": "stream",
     "text": [
      "Step 91: ε=0.0695 (11.59 dB), QFI=2.036e+02, MSE=6.736e-02, Cost=1.092e+02\n"
     ]
    },
    {
     "name": "stderr",
     "output_type": "stream",
     "text": [
      "Optimizing epsilon:  46%|████▋     | 93/200 [8:36:44<9:43:01, 326.93s/it]"
     ]
    },
    {
     "name": "stdout",
     "output_type": "stream",
     "text": [
      "Step 92: ε=0.0694 (11.59 dB), QFI=2.036e+02, MSE=6.744e-02, Cost=1.092e+02\n"
     ]
    },
    {
     "name": "stderr",
     "output_type": "stream",
     "text": [
      "Optimizing epsilon:  47%|████▋     | 94/200 [8:42:12<9:37:47, 327.05s/it]"
     ]
    },
    {
     "name": "stdout",
     "output_type": "stream",
     "text": [
      "Step 93: ε=0.0694 (11.59 dB), QFI=2.036e+02, MSE=6.749e-02, Cost=1.092e+02\n"
     ]
    },
    {
     "name": "stderr",
     "output_type": "stream",
     "text": [
      "Optimizing epsilon:  48%|████▊     | 95/200 [8:47:40<9:33:07, 327.50s/it]"
     ]
    },
    {
     "name": "stdout",
     "output_type": "stream",
     "text": [
      "Step 94: ε=0.0695 (11.59 dB), QFI=2.036e+02, MSE=6.748e-02, Cost=1.092e+02\n"
     ]
    },
    {
     "name": "stderr",
     "output_type": "stream",
     "text": [
      "Optimizing epsilon:  48%|████▊     | 96/200 [8:53:08<9:27:32, 327.43s/it]"
     ]
    },
    {
     "name": "stdout",
     "output_type": "stream",
     "text": [
      "Step 95: ε=0.0695 (11.59 dB), QFI=2.036e+02, MSE=6.741e-02, Cost=1.092e+02\n"
     ]
    },
    {
     "name": "stderr",
     "output_type": "stream",
     "text": [
      "Optimizing epsilon:  48%|████▊     | 97/200 [8:58:35<9:21:59, 327.37s/it]"
     ]
    },
    {
     "name": "stdout",
     "output_type": "stream",
     "text": [
      "Step 96: ε=0.0694 (11.59 dB), QFI=2.036e+02, MSE=6.740e-02, Cost=1.092e+02\n"
     ]
    },
    {
     "name": "stderr",
     "output_type": "stream",
     "text": [
      "Optimizing epsilon:  49%|████▉     | 98/200 [9:04:02<9:16:22, 327.28s/it]"
     ]
    },
    {
     "name": "stdout",
     "output_type": "stream",
     "text": [
      "Step 97: ε=0.0695 (11.59 dB), QFI=2.036e+02, MSE=6.746e-02, Cost=1.092e+02\n"
     ]
    },
    {
     "name": "stderr",
     "output_type": "stream",
     "text": [
      "Optimizing epsilon:  50%|████▉     | 99/200 [9:09:29<9:10:51, 327.24s/it]"
     ]
    },
    {
     "name": "stdout",
     "output_type": "stream",
     "text": [
      "Step 98: ε=0.0695 (11.59 dB), QFI=2.036e+02, MSE=6.745e-02, Cost=1.092e+02\n"
     ]
    },
    {
     "name": "stderr",
     "output_type": "stream",
     "text": [
      "Optimizing epsilon:  50%|█████     | 100/200 [9:14:56<9:05:16, 327.17s/it]"
     ]
    },
    {
     "name": "stdout",
     "output_type": "stream",
     "text": [
      "Step 99: ε=0.0695 (11.59 dB), QFI=2.036e+02, MSE=6.739e-02, Cost=1.092e+02\n"
     ]
    },
    {
     "name": "stderr",
     "output_type": "stream",
     "text": [
      "Optimizing epsilon:  50%|█████     | 101/200 [9:20:22<8:59:31, 326.98s/it]"
     ]
    },
    {
     "name": "stdout",
     "output_type": "stream",
     "text": [
      "Step 100: ε=0.0695 (11.59 dB), QFI=2.036e+02, MSE=6.738e-02, Cost=1.092e+02\n"
     ]
    },
    {
     "name": "stderr",
     "output_type": "stream",
     "text": [
      "Optimizing epsilon:  51%|█████     | 102/200 [9:25:50<8:54:06, 327.00s/it]"
     ]
    },
    {
     "name": "stdout",
     "output_type": "stream",
     "text": [
      "Step 101: ε=0.0695 (11.59 dB), QFI=2.036e+02, MSE=6.744e-02, Cost=1.092e+02\n"
     ]
    },
    {
     "name": "stderr",
     "output_type": "stream",
     "text": [
      "Optimizing epsilon:  52%|█████▏    | 103/200 [9:31:16<8:48:27, 326.89s/it]"
     ]
    },
    {
     "name": "stdout",
     "output_type": "stream",
     "text": [
      "Step 102: ε=0.0695 (11.59 dB), QFI=2.036e+02, MSE=6.744e-02, Cost=1.092e+02\n"
     ]
    },
    {
     "name": "stderr",
     "output_type": "stream",
     "text": [
      "Optimizing epsilon:  52%|█████▏    | 104/200 [9:36:43<8:43:01, 326.90s/it]"
     ]
    },
    {
     "name": "stdout",
     "output_type": "stream",
     "text": [
      "Step 103: ε=0.0694 (11.59 dB), QFI=2.036e+02, MSE=6.743e-02, Cost=1.092e+02\n"
     ]
    },
    {
     "name": "stderr",
     "output_type": "stream",
     "text": [
      "Optimizing epsilon:  52%|█████▎    | 105/200 [9:42:10<8:37:40, 326.95s/it]"
     ]
    },
    {
     "name": "stdout",
     "output_type": "stream",
     "text": [
      "Step 104: ε=0.0694 (11.59 dB), QFI=2.036e+02, MSE=6.748e-02, Cost=1.092e+02\n"
     ]
    },
    {
     "name": "stderr",
     "output_type": "stream",
     "text": [
      "Optimizing epsilon:  53%|█████▎    | 106/200 [9:47:37<8:32:15, 326.97s/it]"
     ]
    },
    {
     "name": "stdout",
     "output_type": "stream",
     "text": [
      "Step 105: ε=0.0695 (11.59 dB), QFI=2.036e+02, MSE=6.746e-02, Cost=1.092e+02\n"
     ]
    },
    {
     "name": "stderr",
     "output_type": "stream",
     "text": [
      "Optimizing epsilon:  54%|█████▎    | 107/200 [9:53:04<8:26:45, 326.94s/it]"
     ]
    },
    {
     "name": "stdout",
     "output_type": "stream",
     "text": [
      "Step 106: ε=0.0695 (11.59 dB), QFI=2.036e+02, MSE=6.739e-02, Cost=1.092e+02\n"
     ]
    },
    {
     "name": "stderr",
     "output_type": "stream",
     "text": [
      "Optimizing epsilon:  54%|█████▍    | 108/200 [9:58:31<8:21:10, 326.85s/it]"
     ]
    },
    {
     "name": "stdout",
     "output_type": "stream",
     "text": [
      "Step 107: ε=0.0695 (11.59 dB), QFI=2.036e+02, MSE=6.738e-02, Cost=1.092e+02\n"
     ]
    },
    {
     "name": "stderr",
     "output_type": "stream",
     "text": [
      "Optimizing epsilon:  55%|█████▍    | 109/200 [10:03:58<8:15:44, 326.87s/it]"
     ]
    },
    {
     "name": "stdout",
     "output_type": "stream",
     "text": [
      "Step 108: ε=0.0695 (11.59 dB), QFI=2.036e+02, MSE=6.744e-02, Cost=1.092e+02\n"
     ]
    },
    {
     "name": "stderr",
     "output_type": "stream",
     "text": [
      "Optimizing epsilon:  55%|█████▌    | 110/200 [10:09:25<8:10:38, 327.10s/it]"
     ]
    },
    {
     "name": "stdout",
     "output_type": "stream",
     "text": [
      "Step 109: ε=0.0694 (11.59 dB), QFI=2.036e+02, MSE=6.743e-02, Cost=1.092e+02\n"
     ]
    },
    {
     "name": "stderr",
     "output_type": "stream",
     "text": [
      "Optimizing epsilon:  56%|█████▌    | 111/200 [10:14:52<8:05:02, 327.00s/it]"
     ]
    },
    {
     "name": "stdout",
     "output_type": "stream",
     "text": [
      "Step 110: ε=0.0694 (11.59 dB), QFI=2.036e+02, MSE=6.748e-02, Cost=1.092e+02\n"
     ]
    },
    {
     "name": "stderr",
     "output_type": "stream",
     "text": [
      "Optimizing epsilon:  56%|█████▌    | 112/200 [10:20:19<7:59:33, 326.97s/it]"
     ]
    },
    {
     "name": "stdout",
     "output_type": "stream",
     "text": [
      "Step 111: ε=0.0695 (11.59 dB), QFI=2.036e+02, MSE=6.747e-02, Cost=1.092e+02\n"
     ]
    },
    {
     "name": "stderr",
     "output_type": "stream",
     "text": [
      "Optimizing epsilon:  56%|█████▋    | 113/200 [10:25:46<7:54:08, 326.99s/it]"
     ]
    },
    {
     "name": "stdout",
     "output_type": "stream",
     "text": [
      "Step 112: ε=0.0695 (11.59 dB), QFI=2.036e+02, MSE=6.739e-02, Cost=1.092e+02\n"
     ]
    },
    {
     "name": "stderr",
     "output_type": "stream",
     "text": [
      "Optimizing epsilon:  57%|█████▋    | 114/200 [10:31:14<7:49:05, 327.27s/it]"
     ]
    },
    {
     "name": "stdout",
     "output_type": "stream",
     "text": [
      "Step 113: ε=0.0695 (11.59 dB), QFI=2.036e+02, MSE=6.739e-02, Cost=1.092e+02\n"
     ]
    },
    {
     "name": "stderr",
     "output_type": "stream",
     "text": [
      "Optimizing epsilon:  57%|█████▊    | 115/200 [10:36:41<7:43:31, 327.20s/it]"
     ]
    },
    {
     "name": "stdout",
     "output_type": "stream",
     "text": [
      "Step 114: ε=0.0695 (11.59 dB), QFI=2.036e+02, MSE=6.744e-02, Cost=1.092e+02\n"
     ]
    },
    {
     "name": "stderr",
     "output_type": "stream",
     "text": [
      "Optimizing epsilon:  58%|█████▊    | 116/200 [10:42:08<7:37:50, 327.02s/it]"
     ]
    },
    {
     "name": "stdout",
     "output_type": "stream",
     "text": [
      "Step 115: ε=0.0694 (11.59 dB), QFI=2.036e+02, MSE=6.743e-02, Cost=1.092e+02\n"
     ]
    },
    {
     "name": "stderr",
     "output_type": "stream",
     "text": [
      "Optimizing epsilon:  58%|█████▊    | 117/200 [10:47:34<7:32:17, 326.96s/it]"
     ]
    },
    {
     "name": "stdout",
     "output_type": "stream",
     "text": [
      "Step 116: ε=0.0694 (11.59 dB), QFI=2.036e+02, MSE=6.748e-02, Cost=1.092e+02\n"
     ]
    },
    {
     "name": "stderr",
     "output_type": "stream",
     "text": [
      "Optimizing epsilon:  59%|█████▉    | 118/200 [10:53:01<7:26:45, 326.90s/it]"
     ]
    },
    {
     "name": "stdout",
     "output_type": "stream",
     "text": [
      "Step 117: ε=0.0695 (11.59 dB), QFI=2.036e+02, MSE=6.747e-02, Cost=1.092e+02\n"
     ]
    },
    {
     "name": "stderr",
     "output_type": "stream",
     "text": [
      "Optimizing epsilon:  60%|█████▉    | 119/200 [10:58:28<7:21:16, 326.87s/it]"
     ]
    },
    {
     "name": "stdout",
     "output_type": "stream",
     "text": [
      "Step 118: ε=0.0695 (11.59 dB), QFI=2.036e+02, MSE=6.739e-02, Cost=1.092e+02\n"
     ]
    },
    {
     "name": "stderr",
     "output_type": "stream",
     "text": [
      "Optimizing epsilon:  60%|██████    | 120/200 [11:03:55<7:15:51, 326.89s/it]"
     ]
    },
    {
     "name": "stdout",
     "output_type": "stream",
     "text": [
      "Step 119: ε=0.0695 (11.59 dB), QFI=2.036e+02, MSE=6.739e-02, Cost=1.092e+02\n"
     ]
    },
    {
     "name": "stderr",
     "output_type": "stream",
     "text": [
      "Optimizing epsilon:  60%|██████    | 121/200 [11:09:22<7:10:19, 326.83s/it]"
     ]
    },
    {
     "name": "stdout",
     "output_type": "stream",
     "text": [
      "Step 120: ε=0.0695 (11.59 dB), QFI=2.036e+02, MSE=6.744e-02, Cost=1.092e+02\n"
     ]
    },
    {
     "name": "stderr",
     "output_type": "stream",
     "text": [
      "Optimizing epsilon:  61%|██████    | 122/200 [11:14:48<7:04:51, 326.82s/it]"
     ]
    },
    {
     "name": "stdout",
     "output_type": "stream",
     "text": [
      "Step 121: ε=0.0694 (11.59 dB), QFI=2.036e+02, MSE=6.743e-02, Cost=1.092e+02\n"
     ]
    },
    {
     "name": "stderr",
     "output_type": "stream",
     "text": [
      "Optimizing epsilon:  62%|██████▏   | 123/200 [11:20:15<6:59:23, 326.80s/it]"
     ]
    },
    {
     "name": "stdout",
     "output_type": "stream",
     "text": [
      "Step 122: ε=0.0695 (11.59 dB), QFI=2.036e+02, MSE=6.747e-02, Cost=1.092e+02\n"
     ]
    },
    {
     "name": "stderr",
     "output_type": "stream",
     "text": [
      "Optimizing epsilon:  62%|██████▏   | 124/200 [11:25:42<6:53:54, 326.77s/it]"
     ]
    },
    {
     "name": "stdout",
     "output_type": "stream",
     "text": [
      "Step 123: ε=0.0695 (11.59 dB), QFI=2.036e+02, MSE=6.745e-02, Cost=1.092e+02\n"
     ]
    },
    {
     "name": "stderr",
     "output_type": "stream",
     "text": [
      "Optimizing epsilon:  62%|██████▎   | 125/200 [11:31:08<6:48:25, 326.74s/it]"
     ]
    },
    {
     "name": "stdout",
     "output_type": "stream",
     "text": [
      "Step 124: ε=0.0695 (11.58 dB), QFI=2.036e+02, MSE=6.737e-02, Cost=1.092e+02\n"
     ]
    },
    {
     "name": "stderr",
     "output_type": "stream",
     "text": [
      "Optimizing epsilon:  63%|██████▎   | 126/200 [11:36:35<6:42:58, 326.73s/it]"
     ]
    },
    {
     "name": "stdout",
     "output_type": "stream",
     "text": [
      "Step 125: ε=0.0695 (11.59 dB), QFI=2.036e+02, MSE=6.735e-02, Cost=1.092e+02\n"
     ]
    },
    {
     "name": "stderr",
     "output_type": "stream",
     "text": [
      "Optimizing epsilon:  64%|██████▎   | 127/200 [11:42:02<6:37:28, 326.69s/it]"
     ]
    },
    {
     "name": "stdout",
     "output_type": "stream",
     "text": [
      "Step 126: ε=0.0694 (11.59 dB), QFI=2.036e+02, MSE=6.740e-02, Cost=1.092e+02\n"
     ]
    },
    {
     "name": "stderr",
     "output_type": "stream",
     "text": [
      "Optimizing epsilon:  64%|██████▍   | 128/200 [11:47:30<6:32:44, 327.29s/it]"
     ]
    },
    {
     "name": "stdout",
     "output_type": "stream",
     "text": [
      "Step 127: ε=0.0694 (11.59 dB), QFI=2.036e+02, MSE=6.750e-02, Cost=1.092e+02\n"
     ]
    },
    {
     "name": "stderr",
     "output_type": "stream",
     "text": [
      "Optimizing epsilon:  64%|██████▍   | 129/200 [11:52:57<6:27:05, 327.12s/it]"
     ]
    },
    {
     "name": "stdout",
     "output_type": "stream",
     "text": [
      "Step 128: ε=0.0694 (11.59 dB), QFI=2.036e+02, MSE=6.754e-02, Cost=1.092e+02\n"
     ]
    },
    {
     "name": "stderr",
     "output_type": "stream",
     "text": [
      "Optimizing epsilon:  65%|██████▌   | 130/200 [11:58:24<6:21:23, 326.91s/it]"
     ]
    },
    {
     "name": "stdout",
     "output_type": "stream",
     "text": [
      "Step 129: ε=0.0695 (11.59 dB), QFI=2.036e+02, MSE=6.751e-02, Cost=1.092e+02\n"
     ]
    },
    {
     "name": "stderr",
     "output_type": "stream",
     "text": [
      "Optimizing epsilon:  66%|██████▌   | 131/200 [12:03:50<6:15:48, 326.79s/it]"
     ]
    },
    {
     "name": "stdout",
     "output_type": "stream",
     "text": [
      "Step 130: ε=0.0695 (11.59 dB), QFI=2.036e+02, MSE=6.742e-02, Cost=1.092e+02\n"
     ]
    },
    {
     "name": "stderr",
     "output_type": "stream",
     "text": [
      "Optimizing epsilon:  66%|██████▌   | 132/200 [12:09:18<6:10:36, 327.01s/it]"
     ]
    },
    {
     "name": "stdout",
     "output_type": "stream",
     "text": [
      "Step 131: ε=0.0695 (11.59 dB), QFI=2.036e+02, MSE=6.740e-02, Cost=1.092e+02\n"
     ]
    },
    {
     "name": "stderr",
     "output_type": "stream",
     "text": [
      "Optimizing epsilon:  66%|██████▋   | 133/200 [12:14:44<6:05:06, 326.96s/it]"
     ]
    },
    {
     "name": "stdout",
     "output_type": "stream",
     "text": [
      "Step 132: ε=0.0695 (11.59 dB), QFI=2.036e+02, MSE=6.744e-02, Cost=1.092e+02\n"
     ]
    },
    {
     "name": "stderr",
     "output_type": "stream",
     "text": [
      "Optimizing epsilon:  67%|██████▋   | 134/200 [12:20:11<5:59:31, 326.85s/it]"
     ]
    },
    {
     "name": "stdout",
     "output_type": "stream",
     "text": [
      "Step 133: ε=0.0694 (11.59 dB), QFI=2.036e+02, MSE=6.742e-02, Cost=1.092e+02\n"
     ]
    },
    {
     "name": "stderr",
     "output_type": "stream",
     "text": [
      "Optimizing epsilon:  68%|██████▊   | 135/200 [12:25:38<5:54:09, 326.91s/it]"
     ]
    },
    {
     "name": "stdout",
     "output_type": "stream",
     "text": [
      "Step 134: ε=0.0695 (11.59 dB), QFI=2.036e+02, MSE=6.746e-02, Cost=1.092e+02\n"
     ]
    },
    {
     "name": "stderr",
     "output_type": "stream",
     "text": [
      "Optimizing epsilon:  68%|██████▊   | 136/200 [12:31:05<5:48:45, 326.96s/it]"
     ]
    },
    {
     "name": "stdout",
     "output_type": "stream",
     "text": [
      "Step 135: ε=0.0695 (11.59 dB), QFI=2.036e+02, MSE=6.744e-02, Cost=1.092e+02\n"
     ]
    },
    {
     "name": "stderr",
     "output_type": "stream",
     "text": [
      "Optimizing epsilon:  68%|██████▊   | 137/200 [12:36:32<5:43:08, 326.80s/it]"
     ]
    },
    {
     "name": "stdout",
     "output_type": "stream",
     "text": [
      "Step 136: ε=0.0695 (11.58 dB), QFI=2.036e+02, MSE=6.736e-02, Cost=1.092e+02\n"
     ]
    },
    {
     "name": "stderr",
     "output_type": "stream",
     "text": [
      "Optimizing epsilon:  69%|██████▉   | 138/200 [12:41:58<5:37:42, 326.81s/it]"
     ]
    },
    {
     "name": "stdout",
     "output_type": "stream",
     "text": [
      "Step 137: ε=0.0695 (11.59 dB), QFI=2.036e+02, MSE=6.735e-02, Cost=1.092e+02\n"
     ]
    },
    {
     "name": "stderr",
     "output_type": "stream",
     "text": [
      "Optimizing epsilon:  70%|██████▉   | 139/200 [12:47:25<5:32:18, 326.86s/it]"
     ]
    },
    {
     "name": "stdout",
     "output_type": "stream",
     "text": [
      "Step 138: ε=0.0694 (11.59 dB), QFI=2.036e+02, MSE=6.740e-02, Cost=1.092e+02\n"
     ]
    },
    {
     "name": "stderr",
     "output_type": "stream",
     "text": [
      "Optimizing epsilon:  70%|███████   | 140/200 [12:52:52<5:26:45, 326.77s/it]"
     ]
    },
    {
     "name": "stdout",
     "output_type": "stream",
     "text": [
      "Step 139: ε=0.0694 (11.59 dB), QFI=2.036e+02, MSE=6.750e-02, Cost=1.092e+02\n"
     ]
    },
    {
     "name": "stderr",
     "output_type": "stream",
     "text": [
      "Optimizing epsilon:  70%|███████   | 141/200 [12:58:18<5:21:12, 326.65s/it]"
     ]
    },
    {
     "name": "stdout",
     "output_type": "stream",
     "text": [
      "Step 140: ε=0.0694 (11.59 dB), QFI=2.036e+02, MSE=6.753e-02, Cost=1.092e+02\n"
     ]
    },
    {
     "name": "stderr",
     "output_type": "stream",
     "text": [
      "Optimizing epsilon:  71%|███████   | 142/200 [13:03:45<5:15:44, 326.64s/it]"
     ]
    },
    {
     "name": "stdout",
     "output_type": "stream",
     "text": [
      "Step 141: ε=0.0695 (11.59 dB), QFI=2.036e+02, MSE=6.751e-02, Cost=1.092e+02\n"
     ]
    },
    {
     "name": "stderr",
     "output_type": "stream",
     "text": [
      "Optimizing epsilon:  72%|███████▏  | 143/200 [13:09:12<5:10:21, 326.69s/it]"
     ]
    },
    {
     "name": "stdout",
     "output_type": "stream",
     "text": [
      "Step 142: ε=0.0695 (11.59 dB), QFI=2.036e+02, MSE=6.742e-02, Cost=1.092e+02\n"
     ]
    },
    {
     "name": "stderr",
     "output_type": "stream",
     "text": [
      "Optimizing epsilon:  72%|███████▏  | 144/200 [13:14:39<5:04:58, 326.77s/it]"
     ]
    },
    {
     "name": "stdout",
     "output_type": "stream",
     "text": [
      "Step 143: ε=0.0695 (11.59 dB), QFI=2.036e+02, MSE=6.740e-02, Cost=1.092e+02\n"
     ]
    },
    {
     "name": "stderr",
     "output_type": "stream",
     "text": [
      "Optimizing epsilon:  72%|███████▎  | 145/200 [13:20:06<4:59:36, 326.84s/it]"
     ]
    },
    {
     "name": "stdout",
     "output_type": "stream",
     "text": [
      "Step 144: ε=0.0695 (11.59 dB), QFI=2.036e+02, MSE=6.745e-02, Cost=1.092e+02\n"
     ]
    },
    {
     "name": "stderr",
     "output_type": "stream",
     "text": [
      "Optimizing epsilon:  73%|███████▎  | 146/200 [13:25:32<4:54:07, 326.81s/it]"
     ]
    },
    {
     "name": "stdout",
     "output_type": "stream",
     "text": [
      "Step 145: ε=0.0694 (11.59 dB), QFI=2.036e+02, MSE=6.743e-02, Cost=1.092e+02\n"
     ]
    },
    {
     "name": "stderr",
     "output_type": "stream",
     "text": [
      "Optimizing epsilon:  74%|███████▎  | 147/200 [13:30:59<4:48:38, 326.77s/it]"
     ]
    },
    {
     "name": "stdout",
     "output_type": "stream",
     "text": [
      "Step 146: ε=0.0695 (11.59 dB), QFI=2.036e+02, MSE=6.747e-02, Cost=1.092e+02\n"
     ]
    },
    {
     "name": "stderr",
     "output_type": "stream",
     "text": [
      "Optimizing epsilon:  74%|███████▍  | 148/200 [13:36:26<4:43:11, 326.75s/it]"
     ]
    },
    {
     "name": "stdout",
     "output_type": "stream",
     "text": [
      "Step 147: ε=0.0695 (11.59 dB), QFI=2.036e+02, MSE=6.744e-02, Cost=1.092e+02\n"
     ]
    },
    {
     "name": "stderr",
     "output_type": "stream",
     "text": [
      "Optimizing epsilon:  74%|███████▍  | 149/200 [13:41:52<4:37:43, 326.73s/it]"
     ]
    },
    {
     "name": "stdout",
     "output_type": "stream",
     "text": [
      "Step 148: ε=0.0695 (11.58 dB), QFI=2.036e+02, MSE=6.736e-02, Cost=1.092e+02\n"
     ]
    },
    {
     "name": "stderr",
     "output_type": "stream",
     "text": [
      "Optimizing epsilon:  75%|███████▌  | 150/200 [13:47:19<4:32:15, 326.72s/it]"
     ]
    },
    {
     "name": "stdout",
     "output_type": "stream",
     "text": [
      "Step 149: ε=0.0695 (11.59 dB), QFI=2.036e+02, MSE=6.735e-02, Cost=1.092e+02\n"
     ]
    },
    {
     "name": "stderr",
     "output_type": "stream",
     "text": [
      "Optimizing epsilon:  76%|███████▌  | 151/200 [13:52:46<4:26:47, 326.68s/it]"
     ]
    },
    {
     "name": "stdout",
     "output_type": "stream",
     "text": [
      "Step 150: ε=0.0694 (11.59 dB), QFI=2.036e+02, MSE=6.740e-02, Cost=1.092e+02\n"
     ]
    },
    {
     "name": "stderr",
     "output_type": "stream",
     "text": [
      "Optimizing epsilon:  76%|███████▌  | 152/200 [13:58:12<4:21:18, 326.64s/it]"
     ]
    },
    {
     "name": "stdout",
     "output_type": "stream",
     "text": [
      "Step 151: ε=0.0694 (11.59 dB), QFI=2.036e+02, MSE=6.750e-02, Cost=1.092e+02\n"
     ]
    },
    {
     "name": "stderr",
     "output_type": "stream",
     "text": [
      "Optimizing epsilon:  76%|███████▋  | 153/200 [14:03:39<4:15:49, 326.58s/it]"
     ]
    },
    {
     "name": "stdout",
     "output_type": "stream",
     "text": [
      "Step 152: ε=0.0694 (11.59 dB), QFI=2.036e+02, MSE=6.754e-02, Cost=1.092e+02\n"
     ]
    },
    {
     "name": "stderr",
     "output_type": "stream",
     "text": [
      "Optimizing epsilon:  77%|███████▋  | 154/200 [14:09:05<4:10:17, 326.47s/it]"
     ]
    },
    {
     "name": "stdout",
     "output_type": "stream",
     "text": [
      "Step 153: ε=0.0695 (11.59 dB), QFI=2.036e+02, MSE=6.751e-02, Cost=1.092e+02\n"
     ]
    },
    {
     "name": "stderr",
     "output_type": "stream",
     "text": [
      "Optimizing epsilon:  78%|███████▊  | 155/200 [14:14:32<4:04:54, 326.55s/it]"
     ]
    },
    {
     "name": "stdout",
     "output_type": "stream",
     "text": [
      "Step 154: ε=0.0695 (11.59 dB), QFI=2.036e+02, MSE=6.742e-02, Cost=1.092e+02\n"
     ]
    },
    {
     "name": "stderr",
     "output_type": "stream",
     "text": [
      "Optimizing epsilon:  78%|███████▊  | 156/200 [14:19:59<3:59:34, 326.70s/it]"
     ]
    },
    {
     "name": "stdout",
     "output_type": "stream",
     "text": [
      "Step 155: ε=0.0695 (11.59 dB), QFI=2.036e+02, MSE=6.740e-02, Cost=1.092e+02\n"
     ]
    },
    {
     "name": "stderr",
     "output_type": "stream",
     "text": [
      "Optimizing epsilon:  78%|███████▊  | 157/200 [14:25:26<3:54:16, 326.89s/it]"
     ]
    },
    {
     "name": "stdout",
     "output_type": "stream",
     "text": [
      "Step 156: ε=0.0695 (11.59 dB), QFI=2.036e+02, MSE=6.745e-02, Cost=1.092e+02\n"
     ]
    },
    {
     "name": "stderr",
     "output_type": "stream",
     "text": [
      "Optimizing epsilon:  79%|███████▉  | 158/200 [14:30:55<3:49:12, 327.43s/it]"
     ]
    },
    {
     "name": "stdout",
     "output_type": "stream",
     "text": [
      "Step 157: ε=0.0694 (11.59 dB), QFI=2.036e+02, MSE=6.743e-02, Cost=1.092e+02\n"
     ]
    },
    {
     "name": "stderr",
     "output_type": "stream",
     "text": [
      "Optimizing epsilon:  80%|███████▉  | 159/200 [14:36:23<3:43:59, 327.79s/it]"
     ]
    },
    {
     "name": "stdout",
     "output_type": "stream",
     "text": [
      "Step 158: ε=0.0695 (11.59 dB), QFI=2.036e+02, MSE=6.747e-02, Cost=1.092e+02\n"
     ]
    },
    {
     "name": "stderr",
     "output_type": "stream",
     "text": [
      "Optimizing epsilon:  80%|████████  | 160/200 [14:41:50<3:38:22, 327.56s/it]"
     ]
    },
    {
     "name": "stdout",
     "output_type": "stream",
     "text": [
      "Step 159: ε=0.0695 (11.59 dB), QFI=2.036e+02, MSE=6.745e-02, Cost=1.092e+02\n"
     ]
    },
    {
     "name": "stderr",
     "output_type": "stream",
     "text": [
      "Optimizing epsilon:  80%|████████  | 161/200 [14:47:17<3:32:43, 327.27s/it]"
     ]
    },
    {
     "name": "stdout",
     "output_type": "stream",
     "text": [
      "Step 160: ε=0.0695 (11.58 dB), QFI=2.036e+02, MSE=6.737e-02, Cost=1.092e+02\n"
     ]
    },
    {
     "name": "stderr",
     "output_type": "stream",
     "text": [
      "Optimizing epsilon:  81%|████████  | 162/200 [14:52:44<3:27:08, 327.07s/it]"
     ]
    },
    {
     "name": "stdout",
     "output_type": "stream",
     "text": [
      "Step 161: ε=0.0695 (11.59 dB), QFI=2.036e+02, MSE=6.735e-02, Cost=1.092e+02\n"
     ]
    },
    {
     "name": "stderr",
     "output_type": "stream",
     "text": [
      "Optimizing epsilon:  82%|████████▏ | 163/200 [14:58:10<3:21:37, 326.96s/it]"
     ]
    },
    {
     "name": "stdout",
     "output_type": "stream",
     "text": [
      "Step 162: ε=0.0694 (11.59 dB), QFI=2.036e+02, MSE=6.740e-02, Cost=1.092e+02\n"
     ]
    },
    {
     "name": "stderr",
     "output_type": "stream",
     "text": [
      "Optimizing epsilon:  82%|████████▏ | 164/200 [15:03:37<3:16:08, 326.90s/it]"
     ]
    },
    {
     "name": "stdout",
     "output_type": "stream",
     "text": [
      "Step 163: ε=0.0694 (11.59 dB), QFI=2.036e+02, MSE=6.750e-02, Cost=1.092e+02\n"
     ]
    },
    {
     "name": "stderr",
     "output_type": "stream",
     "text": [
      "Optimizing epsilon:  82%|████████▎ | 165/200 [15:09:04<3:10:40, 326.87s/it]"
     ]
    },
    {
     "name": "stdout",
     "output_type": "stream",
     "text": [
      "Step 164: ε=0.0694 (11.59 dB), QFI=2.036e+02, MSE=6.754e-02, Cost=1.092e+02\n"
     ]
    },
    {
     "name": "stderr",
     "output_type": "stream",
     "text": [
      "Optimizing epsilon:  83%|████████▎ | 166/200 [15:14:31<3:05:11, 326.82s/it]"
     ]
    },
    {
     "name": "stdout",
     "output_type": "stream",
     "text": [
      "Step 165: ε=0.0695 (11.59 dB), QFI=2.036e+02, MSE=6.751e-02, Cost=1.092e+02\n"
     ]
    },
    {
     "name": "stderr",
     "output_type": "stream",
     "text": [
      "Optimizing epsilon:  84%|████████▎ | 167/200 [15:19:57<2:59:44, 326.81s/it]"
     ]
    },
    {
     "name": "stdout",
     "output_type": "stream",
     "text": [
      "Step 166: ε=0.0695 (11.59 dB), QFI=2.036e+02, MSE=6.742e-02, Cost=1.092e+02\n"
     ]
    },
    {
     "name": "stderr",
     "output_type": "stream",
     "text": [
      "Optimizing epsilon:  84%|████████▍ | 168/200 [15:25:24<2:54:14, 326.69s/it]"
     ]
    },
    {
     "name": "stdout",
     "output_type": "stream",
     "text": [
      "Step 167: ε=0.0695 (11.59 dB), QFI=2.036e+02, MSE=6.740e-02, Cost=1.092e+02\n"
     ]
    },
    {
     "name": "stderr",
     "output_type": "stream",
     "text": [
      "Optimizing epsilon:  84%|████████▍ | 169/200 [15:30:51<2:48:50, 326.79s/it]"
     ]
    },
    {
     "name": "stdout",
     "output_type": "stream",
     "text": [
      "Step 168: ε=0.0695 (11.59 dB), QFI=2.036e+02, MSE=6.745e-02, Cost=1.092e+02\n"
     ]
    },
    {
     "name": "stderr",
     "output_type": "stream",
     "text": [
      "Optimizing epsilon:  85%|████████▌ | 170/200 [15:36:17<2:43:22, 326.75s/it]"
     ]
    },
    {
     "name": "stdout",
     "output_type": "stream",
     "text": [
      "Step 169: ε=0.0694 (11.59 dB), QFI=2.036e+02, MSE=6.743e-02, Cost=1.092e+02\n"
     ]
    },
    {
     "name": "stderr",
     "output_type": "stream",
     "text": [
      "Optimizing epsilon:  86%|████████▌ | 171/200 [15:41:44<2:37:53, 326.69s/it]"
     ]
    },
    {
     "name": "stdout",
     "output_type": "stream",
     "text": [
      "Step 170: ε=0.0695 (11.59 dB), QFI=2.036e+02, MSE=6.747e-02, Cost=1.092e+02\n"
     ]
    },
    {
     "name": "stderr",
     "output_type": "stream",
     "text": [
      "Optimizing epsilon:  86%|████████▌ | 172/200 [15:47:11<2:32:26, 326.66s/it]"
     ]
    },
    {
     "name": "stdout",
     "output_type": "stream",
     "text": [
      "Step 171: ε=0.0695 (11.59 dB), QFI=2.036e+02, MSE=6.745e-02, Cost=1.092e+02\n"
     ]
    },
    {
     "name": "stderr",
     "output_type": "stream",
     "text": [
      "Optimizing epsilon:  86%|████████▋ | 173/200 [15:52:37<2:26:57, 326.57s/it]"
     ]
    },
    {
     "name": "stdout",
     "output_type": "stream",
     "text": [
      "Step 172: ε=0.0695 (11.58 dB), QFI=2.036e+02, MSE=6.737e-02, Cost=1.092e+02\n"
     ]
    },
    {
     "name": "stderr",
     "output_type": "stream",
     "text": [
      "Optimizing epsilon:  87%|████████▋ | 174/200 [15:58:03<2:21:28, 326.47s/it]"
     ]
    },
    {
     "name": "stdout",
     "output_type": "stream",
     "text": [
      "Step 173: ε=0.0695 (11.59 dB), QFI=2.036e+02, MSE=6.735e-02, Cost=1.092e+02\n"
     ]
    },
    {
     "name": "stderr",
     "output_type": "stream",
     "text": [
      "Optimizing epsilon:  88%|████████▊ | 175/200 [16:03:29<2:15:58, 326.33s/it]"
     ]
    },
    {
     "name": "stdout",
     "output_type": "stream",
     "text": [
      "Step 174: ε=0.0694 (11.59 dB), QFI=2.036e+02, MSE=6.740e-02, Cost=1.092e+02\n"
     ]
    },
    {
     "name": "stderr",
     "output_type": "stream",
     "text": [
      "Optimizing epsilon:  88%|████████▊ | 176/200 [16:08:55<2:10:31, 326.32s/it]"
     ]
    },
    {
     "name": "stdout",
     "output_type": "stream",
     "text": [
      "Step 175: ε=0.0694 (11.59 dB), QFI=2.036e+02, MSE=6.750e-02, Cost=1.092e+02\n"
     ]
    },
    {
     "name": "stderr",
     "output_type": "stream",
     "text": [
      "Optimizing epsilon:  88%|████████▊ | 177/200 [16:14:22<2:05:07, 326.41s/it]"
     ]
    },
    {
     "name": "stdout",
     "output_type": "stream",
     "text": [
      "Step 176: ε=0.0694 (11.59 dB), QFI=2.036e+02, MSE=6.754e-02, Cost=1.092e+02\n"
     ]
    },
    {
     "name": "stderr",
     "output_type": "stream",
     "text": [
      "Optimizing epsilon:  89%|████████▉ | 178/200 [16:19:47<1:59:32, 326.03s/it]"
     ]
    },
    {
     "name": "stdout",
     "output_type": "stream",
     "text": [
      "Step 177: ε=0.0695 (11.59 dB), QFI=2.036e+02, MSE=6.751e-02, Cost=1.092e+02\n"
     ]
    },
    {
     "name": "stderr",
     "output_type": "stream",
     "text": [
      "Optimizing epsilon:  90%|████████▉ | 179/200 [16:25:13<1:54:05, 325.96s/it]"
     ]
    },
    {
     "name": "stdout",
     "output_type": "stream",
     "text": [
      "Step 178: ε=0.0695 (11.59 dB), QFI=2.036e+02, MSE=6.742e-02, Cost=1.092e+02\n"
     ]
    },
    {
     "name": "stderr",
     "output_type": "stream",
     "text": [
      "Optimizing epsilon:  90%|█████████ | 180/200 [16:30:38<1:48:35, 325.79s/it]"
     ]
    },
    {
     "name": "stdout",
     "output_type": "stream",
     "text": [
      "Step 179: ε=0.0695 (11.59 dB), QFI=2.036e+02, MSE=6.740e-02, Cost=1.092e+02\n"
     ]
    },
    {
     "name": "stderr",
     "output_type": "stream",
     "text": [
      "Optimizing epsilon:  90%|█████████ | 181/200 [16:36:04<1:43:08, 325.69s/it]"
     ]
    },
    {
     "name": "stdout",
     "output_type": "stream",
     "text": [
      "Step 180: ε=0.0695 (11.59 dB), QFI=2.036e+02, MSE=6.745e-02, Cost=1.092e+02\n"
     ]
    },
    {
     "name": "stderr",
     "output_type": "stream",
     "text": [
      "Optimizing epsilon:  91%|█████████ | 182/200 [16:41:30<1:37:43, 325.76s/it]"
     ]
    },
    {
     "name": "stdout",
     "output_type": "stream",
     "text": [
      "Step 181: ε=0.0694 (11.59 dB), QFI=2.036e+02, MSE=6.743e-02, Cost=1.092e+02\n"
     ]
    },
    {
     "name": "stderr",
     "output_type": "stream",
     "text": [
      "Optimizing epsilon:  92%|█████████▏| 183/200 [16:46:55<1:32:15, 325.62s/it]"
     ]
    },
    {
     "name": "stdout",
     "output_type": "stream",
     "text": [
      "Step 182: ε=0.0695 (11.59 dB), QFI=2.036e+02, MSE=6.747e-02, Cost=1.092e+02\n"
     ]
    },
    {
     "name": "stderr",
     "output_type": "stream",
     "text": [
      "Optimizing epsilon:  92%|█████████▏| 184/200 [16:52:20<1:26:47, 325.49s/it]"
     ]
    },
    {
     "name": "stdout",
     "output_type": "stream",
     "text": [
      "Step 183: ε=0.0695 (11.59 dB), QFI=2.036e+02, MSE=6.745e-02, Cost=1.092e+02\n"
     ]
    },
    {
     "name": "stderr",
     "output_type": "stream",
     "text": [
      "Optimizing epsilon:  92%|█████████▎| 185/200 [16:57:46<1:21:24, 325.65s/it]"
     ]
    },
    {
     "name": "stdout",
     "output_type": "stream",
     "text": [
      "Step 184: ε=0.0695 (11.58 dB), QFI=2.036e+02, MSE=6.737e-02, Cost=1.092e+02\n"
     ]
    },
    {
     "name": "stderr",
     "output_type": "stream",
     "text": [
      "Optimizing epsilon:  93%|█████████▎| 186/200 [17:03:14<1:16:05, 326.14s/it]"
     ]
    },
    {
     "name": "stdout",
     "output_type": "stream",
     "text": [
      "Step 185: ε=0.0695 (11.59 dB), QFI=2.036e+02, MSE=6.735e-02, Cost=1.092e+02\n"
     ]
    },
    {
     "name": "stderr",
     "output_type": "stream",
     "text": [
      "Optimizing epsilon:  94%|█████████▎| 187/200 [17:08:40<1:10:39, 326.14s/it]"
     ]
    },
    {
     "name": "stdout",
     "output_type": "stream",
     "text": [
      "Step 186: ε=0.0694 (11.59 dB), QFI=2.036e+02, MSE=6.740e-02, Cost=1.092e+02\n"
     ]
    },
    {
     "name": "stderr",
     "output_type": "stream",
     "text": [
      "Optimizing epsilon:  94%|█████████▍| 188/200 [17:14:06<1:05:13, 326.15s/it]"
     ]
    },
    {
     "name": "stdout",
     "output_type": "stream",
     "text": [
      "Step 187: ε=0.0694 (11.59 dB), QFI=2.036e+02, MSE=6.750e-02, Cost=1.092e+02\n"
     ]
    },
    {
     "name": "stderr",
     "output_type": "stream",
     "text": [
      "Optimizing epsilon:  94%|█████████▍| 189/200 [17:19:32<59:46, 326.07s/it]  "
     ]
    },
    {
     "name": "stdout",
     "output_type": "stream",
     "text": [
      "Step 188: ε=0.0694 (11.59 dB), QFI=2.036e+02, MSE=6.754e-02, Cost=1.092e+02\n"
     ]
    },
    {
     "name": "stderr",
     "output_type": "stream",
     "text": [
      "Optimizing epsilon:  95%|█████████▌| 190/200 [17:24:58<54:20, 326.09s/it]"
     ]
    },
    {
     "name": "stdout",
     "output_type": "stream",
     "text": [
      "Step 189: ε=0.0695 (11.59 dB), QFI=2.036e+02, MSE=6.751e-02, Cost=1.092e+02\n"
     ]
    },
    {
     "name": "stderr",
     "output_type": "stream",
     "text": [
      "Optimizing epsilon:  96%|█████████▌| 191/200 [17:30:24<48:53, 325.96s/it]"
     ]
    },
    {
     "name": "stdout",
     "output_type": "stream",
     "text": [
      "Step 190: ε=0.0695 (11.59 dB), QFI=2.036e+02, MSE=6.742e-02, Cost=1.092e+02\n"
     ]
    },
    {
     "name": "stderr",
     "output_type": "stream",
     "text": [
      "Optimizing epsilon:  96%|█████████▌| 192/200 [17:35:49<43:27, 325.89s/it]"
     ]
    },
    {
     "name": "stdout",
     "output_type": "stream",
     "text": [
      "Step 191: ε=0.0695 (11.59 dB), QFI=2.036e+02, MSE=6.740e-02, Cost=1.092e+02\n"
     ]
    },
    {
     "name": "stderr",
     "output_type": "stream",
     "text": [
      "Optimizing epsilon:  96%|█████████▋| 193/200 [17:41:15<38:00, 325.77s/it]"
     ]
    },
    {
     "name": "stdout",
     "output_type": "stream",
     "text": [
      "Step 192: ε=0.0695 (11.59 dB), QFI=2.036e+02, MSE=6.745e-02, Cost=1.092e+02\n"
     ]
    },
    {
     "name": "stderr",
     "output_type": "stream",
     "text": [
      "Optimizing epsilon:  97%|█████████▋| 194/200 [17:46:41<32:35, 325.89s/it]"
     ]
    },
    {
     "name": "stdout",
     "output_type": "stream",
     "text": [
      "Step 193: ε=0.0694 (11.59 dB), QFI=2.036e+02, MSE=6.743e-02, Cost=1.092e+02\n"
     ]
    },
    {
     "name": "stderr",
     "output_type": "stream",
     "text": [
      "Optimizing epsilon:  98%|█████████▊| 195/200 [17:52:06<27:08, 325.78s/it]"
     ]
    },
    {
     "name": "stdout",
     "output_type": "stream",
     "text": [
      "Step 194: ε=0.0695 (11.59 dB), QFI=2.036e+02, MSE=6.747e-02, Cost=1.092e+02\n"
     ]
    },
    {
     "name": "stderr",
     "output_type": "stream",
     "text": [
      "Optimizing epsilon:  98%|█████████▊| 196/200 [17:57:37<21:49, 327.31s/it]"
     ]
    },
    {
     "name": "stdout",
     "output_type": "stream",
     "text": [
      "Step 195: ε=0.0695 (11.59 dB), QFI=2.036e+02, MSE=6.745e-02, Cost=1.092e+02\n"
     ]
    },
    {
     "name": "stderr",
     "output_type": "stream",
     "text": [
      "Optimizing epsilon:  98%|█████████▊| 197/200 [18:03:08<16:25, 328.38s/it]"
     ]
    },
    {
     "name": "stdout",
     "output_type": "stream",
     "text": [
      "Step 196: ε=0.0695 (11.58 dB), QFI=2.036e+02, MSE=6.737e-02, Cost=1.092e+02\n"
     ]
    },
    {
     "name": "stderr",
     "output_type": "stream",
     "text": [
      "Optimizing epsilon:  99%|█████████▉| 198/200 [18:08:40<10:58, 329.28s/it]"
     ]
    },
    {
     "name": "stdout",
     "output_type": "stream",
     "text": [
      "Step 197: ε=0.0695 (11.59 dB), QFI=2.036e+02, MSE=6.735e-02, Cost=1.092e+02\n"
     ]
    },
    {
     "name": "stderr",
     "output_type": "stream",
     "text": [
      "Optimizing epsilon: 100%|█████████▉| 199/200 [18:14:12<05:30, 330.20s/it]"
     ]
    },
    {
     "name": "stdout",
     "output_type": "stream",
     "text": [
      "Step 198: ε=0.0694 (11.59 dB), QFI=2.036e+02, MSE=6.740e-02, Cost=1.092e+02\n"
     ]
    },
    {
     "name": "stderr",
     "output_type": "stream",
     "text": [
      "Optimizing epsilon: 100%|██████████| 200/200 [18:19:45<00:00, 329.93s/it]"
     ]
    },
    {
     "name": "stdout",
     "output_type": "stream",
     "text": [
      "Step 199: ε=0.0694 (11.59 dB), QFI=2.036e+02, MSE=6.750e-02, Cost=1.092e+02\n"
     ]
    },
    {
     "name": "stderr",
     "output_type": "stream",
     "text": [
      "\n"
     ]
    },
    {
     "data": {
      "image/png": "[encoded data removed]",
      "text/plain": [
       "<Figure size 1000x1200 with 3 Axes>"
      ]
     },
     "metadata": {},
     "output_type": "display_data"
    }
   ],
   "source": [
    "import numpy as np\n",
    "import strawberryfields as sf\n",
    "import matplotlib.pyplot as plt\n",
    "from tqdm.auto import tqdm\n",
    "\n",
    "# --- Configuration ---\n",
    "sf.hbar = 1\n",
    "\n",
    "eta, delta = 0.9, 0.01\n",
    "quad_pts = 200\n",
    "quad_axis = np.linspace(-6, 6, quad_pts)\n",
    "num_steps = 200\n",
    "learning_rate = 0.001\n",
    "momentum = 0.9\n",
    "mu = np.pi / 4  # Fixed quadrature angle\n",
    "\n",
    "# Adjust weights (importance of QFI vs. MSE)\n",
    "a, b = 0.5, 0.5\n",
    "\n",
    "def compute_cost_gradient(epsilon, eta, delta, a, b, d_eps=1e-3):\n",
    "    grad_qfi = compute_qfi_gradient(epsilon, eta, delta, d_eps)\n",
    "\n",
    "    mse_p = compute_marginal_mse_epsilon([epsilon + d_eps/2])[0]\n",
    "    mse_m = compute_marginal_mse_epsilon([epsilon - d_eps/2])[0]\n",
    "    grad_mse = (mse_p - mse_m) / d_eps\n",
    "\n",
    "    mse_current = compute_marginal_mse_epsilon([epsilon])[0]\n",
    "\n",
    "    return a * grad_qfi - b * grad_mse / (mse_current ** 2 + 1e-12)\n",
    "\n",
    "# --- Optimization Loop ---\n",
    "epsilon = db_to_epsilon(12)  \n",
    "epsilon_min = db_to_epsilon(15)  # smallest epsilon, largest squeezing\n",
    "epsilon_max = db_to_epsilon(9)   # largest epsilon, smallest squeezing\n",
    "\n",
    "print(f\"Initial epsilon: {epsilon:.4f} ({epsilon_to_db(epsilon):.2f} dB)\")\n",
    "\n",
    "history = {'epsilon': [], 'QFI': [], 'MSE': [], 'Cost': []}\n",
    "velocity = 0\n",
    "\n",
    "for step in tqdm(range(num_steps), desc=\"Optimizing epsilon\"):\n",
    "    W_base, dW_eta, dW_delta = compute_wigner_derivatives(epsilon, eta, delta)\n",
    "\n",
    "    # Fix here: correctly unpacking QFI components\n",
    "    qfi_total, qfi_eta, qfi_delta = compute_qfi_bound(dW_eta, dW_delta)\n",
    "    # Fix here: epsilon wrapped in list\n",
    "    mse = compute_marginal_mse_epsilon([epsilon])[0]\n",
    "    cost = a * qfi_total + b / mse\n",
    "\n",
    "    grad = compute_cost_gradient(epsilon, eta, delta, a, b)\n",
    "    # Clip gradient to stabilize updates\n",
    "    grad = np.clip(grad, -0.05, 0.05)\n",
    "\n",
    "    velocity = momentum * velocity + learning_rate * grad\n",
    "    epsilon += velocity\n",
    "    epsilon = np.clip(epsilon, epsilon_min, epsilon_max)\n",
    "\n",
    "    history['epsilon'].append(epsilon)\n",
    "    history['QFI'].append(qfi_total)\n",
    "    history['MSE'].append(mse)\n",
    "    history['Cost'].append(cost)\n",
    "\n",
    "    if step % 1 == 0 or step == num_steps - 1:\n",
    "        print(f\"Step {step}: ε={epsilon:.4f} ({epsilon_to_db(epsilon):.2f} dB), \"\n",
    "              f\"QFI={qfi_total:.3e}, MSE={mse:.3e}, Cost={cost:.3e}\")\n",
    "\n",
    "\n",
    "# --- Plot Results ---\n",
    "fig, ax = plt.subplots(3, 1, figsize=(10, 12), sharex=True)\n",
    "ax[0].plot(history['epsilon'], color='purple')\n",
    "ax[0].set_ylabel(r'$\\epsilon$')\n",
    "ax[0].set_title('Optimized Epsilon')\n",
    "\n",
    "ax[1].plot(history['QFI'], color='blue')\n",
    "ax[1].set_ylabel('QFI')\n",
    "ax[1].set_title('Quantum Fisher Information')\n",
    "\n",
    "ax[2].plot(history['MSE'], color='red')\n",
    "ax[2].set_ylabel('MSE')\n",
    "ax[2].set_xlabel('Optimization Step')\n",
    "ax[2].set_title('Marginal MSE')\n",
    "\n",
    "plt.tight_layout()\n",
    "plt.show()\n"
   ]
  }
 ],
 "metadata": {
  "kernelspec": {
   "display_name": "cv_Computing",
   "language": "python",
   "name": "python3"
  },
  "language_info": {
   "codemirror_mode": {
    "name": "ipython",
    "version": 3
   },
   "file_extension": ".py",
   "mimetype": "text/x-python",
   "name": "python",
   "nbconvert_exporter": "python",
   "pygments_lexer": "ipython3",
   "version": "3.9.21"
  }
 },
 "nbformat": 4,
 "nbformat_minor": 2
}
