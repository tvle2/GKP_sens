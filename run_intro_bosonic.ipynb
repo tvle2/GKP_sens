{
  "cells": [
    {
      "cell_type": "code",
      "execution_count": 1,
      "metadata": {
        "collapsed": false
      },
      "outputs": [
        {
          "name": "stdout",
          "output_type": "stream",
          "text": [
            "Collecting strawberryfields\n",
            "  Using cached StrawberryFields-0.23.0-py3-none-any.whl.metadata (7.6 kB)\n",
            "Collecting matplotlib\n",
            "  Downloading matplotlib-3.9.4-cp39-cp39-win_amd64.whl.metadata (11 kB)\n",
            "Collecting networkx>=2.0 (from strawberryfields)\n",
            "  Using cached networkx-3.2.1-py3-none-any.whl.metadata (5.2 kB)\n",
            "Collecting numba (from strawberryfields)\n",
            "  Downloading numba-0.60.0-cp39-cp39-win_amd64.whl.metadata (2.8 kB)\n",
            "Collecting numpy>=1.17.4 (from strawberryfields)\n",
            "  Using cached numpy-2.0.2-cp39-cp39-win_amd64.whl.metadata (59 kB)\n",
            "Requirement already satisfied: python-dateutil>=2.8.0 in c:\\users\\tvle2\\appdata\\local\\anaconda3\\envs\\cv_computing\\lib\\site-packages (from strawberryfields) (2.9.0.post0)\n",
            "Collecting quantum-blackbird>=0.3.0 (from strawberryfields)\n",
            "  Using cached quantum_blackbird-0.5.0-py3-none-any.whl.metadata (4.6 kB)\n",
            "Collecting requests>=2.22.0 (from strawberryfields)\n",
            "  Using cached requests-2.32.3-py3-none-any.whl.metadata (4.6 kB)\n",
            "Collecting scipy>=1.0.0 (from strawberryfields)\n",
            "  Using cached scipy-1.13.1-cp39-cp39-win_amd64.whl.metadata (60 kB)\n",
            "Collecting sympy>=1.5 (from strawberryfields)\n",
            "  Using cached sympy-1.13.3-py3-none-any.whl.metadata (12 kB)\n",
            "Collecting thewalrus>=0.18.0 (from strawberryfields)\n",
            "  Using cached thewalrus-0.21.0-py3-none-any.whl.metadata (6.2 kB)\n",
            "Collecting toml (from strawberryfields)\n",
            "  Using cached toml-0.10.2-py2.py3-none-any.whl.metadata (7.1 kB)\n",
            "Collecting urllib3>=1.25.3 (from strawberryfields)\n",
            "  Using cached urllib3-2.3.0-py3-none-any.whl.metadata (6.5 kB)\n",
            "Collecting quantum-xir>=0.1.1 (from strawberryfields)\n",
            "  Using cached quantum_xir-0.2.2-py3-none-any.whl.metadata (4.1 kB)\n",
            "Collecting xanadu-cloud-client>=0.2.1 (from strawberryfields)\n",
            "  Using cached xanadu_cloud_client-0.3.2-py3-none-any.whl.metadata (8.3 kB)\n",
            "Collecting contourpy>=1.0.1 (from matplotlib)\n",
            "  Using cached contourpy-1.3.0-cp39-cp39-win_amd64.whl.metadata (5.4 kB)\n",
            "Collecting cycler>=0.10 (from matplotlib)\n",
            "  Using cached cycler-0.12.1-py3-none-any.whl.metadata (3.8 kB)\n",
            "Collecting fonttools>=4.22.0 (from matplotlib)\n",
            "  Downloading fonttools-4.55.3-cp39-cp39-win_amd64.whl.metadata (168 kB)\n",
            "Collecting kiwisolver>=1.3.1 (from matplotlib)\n",
            "  Using cached kiwisolver-1.4.7-cp39-cp39-win_amd64.whl.metadata (6.4 kB)\n",
            "Requirement already satisfied: packaging>=20.0 in c:\\users\\tvle2\\appdata\\local\\anaconda3\\envs\\cv_computing\\lib\\site-packages (from matplotlib) (24.2)\n",
            "Collecting pillow>=8 (from matplotlib)\n",
            "  Downloading pillow-11.1.0-cp39-cp39-win_amd64.whl.metadata (9.3 kB)\n",
            "Collecting pyparsing>=2.3.1 (from matplotlib)\n",
            "  Using cached pyparsing-3.2.1-py3-none-any.whl.metadata (5.0 kB)\n",
            "Collecting importlib-resources>=3.2.0 (from matplotlib)\n",
            "  Downloading importlib_resources-6.5.2-py3-none-any.whl.metadata (3.9 kB)\n",
            "Requirement already satisfied: zipp>=3.1.0 in c:\\users\\tvle2\\appdata\\local\\anaconda3\\envs\\cv_computing\\lib\\site-packages (from importlib-resources>=3.2.0->matplotlib) (3.21.0)\n",
            "Requirement already satisfied: six>=1.5 in c:\\users\\tvle2\\appdata\\local\\anaconda3\\envs\\cv_computing\\lib\\site-packages (from python-dateutil>=2.8.0->strawberryfields) (1.17.0)\n",
            "Collecting antlr4-python3-runtime==4.9.2 (from quantum-blackbird>=0.3.0->strawberryfields)\n",
            "  Using cached antlr4-python3-runtime-4.9.2.tar.gz (117 kB)\n",
            "  Preparing metadata (setup.py): started\n",
            "  Preparing metadata (setup.py): finished with status 'done'\n",
            "Collecting lark-parser>=0.11.0 (from quantum-xir>=0.1.1->strawberryfields)\n",
            "  Using cached lark_parser-0.12.0-py2.py3-none-any.whl.metadata (1.7 kB)\n",
            "Collecting charset-normalizer<4,>=2 (from requests>=2.22.0->strawberryfields)\n",
            "  Downloading charset_normalizer-3.4.1-cp39-cp39-win_amd64.whl.metadata (36 kB)\n",
            "Collecting idna<4,>=2.5 (from requests>=2.22.0->strawberryfields)\n",
            "  Using cached idna-3.10-py3-none-any.whl.metadata (10 kB)\n",
            "Collecting certifi>=2017.4.17 (from requests>=2.22.0->strawberryfields)\n",
            "  Using cached certifi-2024.12.14-py3-none-any.whl.metadata (2.3 kB)\n",
            "Collecting mpmath<1.4,>=1.1.0 (from sympy>=1.5->strawberryfields)\n",
            "  Using cached mpmath-1.3.0-py3-none-any.whl.metadata (8.6 kB)\n",
            "Collecting dask[delayed] (from thewalrus>=0.18.0->strawberryfields)\n",
            "  Downloading dask-2024.8.0-py3-none-any.whl.metadata (3.8 kB)\n",
            "Collecting llvmlite<0.44,>=0.43.0dev0 (from numba->strawberryfields)\n",
            "  Downloading llvmlite-0.43.0-cp39-cp39-win_amd64.whl.metadata (4.9 kB)\n",
            "Collecting appdirs (from xanadu-cloud-client>=0.2.1->strawberryfields)\n",
            "  Using cached appdirs-1.4.4-py2.py3-none-any.whl.metadata (9.0 kB)\n",
            "Collecting fire (from xanadu-cloud-client>=0.2.1->strawberryfields)\n",
            "  Using cached fire-0.7.0.tar.gz (87 kB)\n",
            "  Preparing metadata (setup.py): started\n",
            "  Preparing metadata (setup.py): finished with status 'done'\n",
            "Collecting pydantic>=2 (from xanadu-cloud-client>=0.2.1->strawberryfields)\n",
            "  Using cached pydantic-2.10.5-py3-none-any.whl.metadata (30 kB)\n",
            "Collecting pydantic-settings (from xanadu-cloud-client>=0.2.1->strawberryfields)\n",
            "  Using cached pydantic_settings-2.7.1-py3-none-any.whl.metadata (3.5 kB)\n",
            "Collecting python-dotenv (from xanadu-cloud-client>=0.2.1->strawberryfields)\n",
            "  Using cached python_dotenv-1.0.1-py3-none-any.whl.metadata (23 kB)\n",
            "Collecting annotated-types>=0.6.0 (from pydantic>=2->xanadu-cloud-client>=0.2.1->strawberryfields)\n",
            "  Using cached annotated_types-0.7.0-py3-none-any.whl.metadata (15 kB)\n",
            "Collecting pydantic-core==2.27.2 (from pydantic>=2->xanadu-cloud-client>=0.2.1->strawberryfields)\n",
            "  Downloading pydantic_core-2.27.2-cp39-cp39-win_amd64.whl.metadata (6.7 kB)\n",
            "Requirement already satisfied: typing-extensions>=4.12.2 in c:\\users\\tvle2\\appdata\\local\\anaconda3\\envs\\cv_computing\\lib\\site-packages (from pydantic>=2->xanadu-cloud-client>=0.2.1->strawberryfields) (4.12.2)\n",
            "Collecting click>=8.1 (from dask[delayed]->thewalrus>=0.18.0->strawberryfields)\n",
            "  Using cached click-8.1.8-py3-none-any.whl.metadata (2.3 kB)\n",
            "Collecting cloudpickle>=1.5.0 (from dask[delayed]->thewalrus>=0.18.0->strawberryfields)\n",
            "  Using cached cloudpickle-3.1.1-py3-none-any.whl.metadata (7.1 kB)\n",
            "Collecting fsspec>=2021.09.0 (from dask[delayed]->thewalrus>=0.18.0->strawberryfields)\n",
            "  Using cached fsspec-2024.12.0-py3-none-any.whl.metadata (11 kB)\n",
            "Collecting partd>=1.4.0 (from dask[delayed]->thewalrus>=0.18.0->strawberryfields)\n",
            "  Using cached partd-1.4.2-py3-none-any.whl.metadata (4.6 kB)\n",
            "Collecting pyyaml>=5.3.1 (from dask[delayed]->thewalrus>=0.18.0->strawberryfields)\n",
            "  Using cached PyYAML-6.0.2-cp39-cp39-win_amd64.whl.metadata (2.1 kB)\n",
            "Collecting toolz>=0.10.0 (from dask[delayed]->thewalrus>=0.18.0->strawberryfields)\n",
            "  Using cached toolz-1.0.0-py3-none-any.whl.metadata (5.1 kB)\n",
            "Requirement already satisfied: importlib-metadata>=4.13.0 in c:\\users\\tvle2\\appdata\\local\\anaconda3\\envs\\cv_computing\\lib\\site-packages (from dask[delayed]->thewalrus>=0.18.0->strawberryfields) (8.5.0)\n",
            "Collecting termcolor (from fire->xanadu-cloud-client>=0.2.1->strawberryfields)\n",
            "  Using cached termcolor-2.5.0-py3-none-any.whl.metadata (6.1 kB)\n",
            "Requirement already satisfied: colorama in c:\\users\\tvle2\\appdata\\local\\anaconda3\\envs\\cv_computing\\lib\\site-packages (from click>=8.1->dask[delayed]->thewalrus>=0.18.0->strawberryfields) (0.4.6)\n",
            "Collecting locket (from partd>=1.4.0->dask[delayed]->thewalrus>=0.18.0->strawberryfields)\n",
            "  Using cached locket-1.0.0-py2.py3-none-any.whl.metadata (2.8 kB)\n",
            "Using cached StrawberryFields-0.23.0-py3-none-any.whl (4.9 MB)\n",
            "Downloading matplotlib-3.9.4-cp39-cp39-win_amd64.whl (7.8 MB)\n",
            "   ---------------------------------------- 0.0/7.8 MB ? eta -:--:--\n",
            "   -------------------------------- ------- 6.3/7.8 MB 32.1 MB/s eta 0:00:01\n",
            "   ---------------------------------------- 7.8/7.8 MB 34.5 MB/s eta 0:00:00\n",
            "Using cached contourpy-1.3.0-cp39-cp39-win_amd64.whl (211 kB)\n",
            "Using cached cycler-0.12.1-py3-none-any.whl (8.3 kB)\n",
            "Downloading fonttools-4.55.3-cp39-cp39-win_amd64.whl (2.2 MB)\n",
            "   ---------------------------------------- 0.0/2.2 MB ? eta -:--:--\n",
            "   ---------------------------------------- 2.2/2.2 MB 63.2 MB/s eta 0:00:00\n",
            "Downloading importlib_resources-6.5.2-py3-none-any.whl (37 kB)\n",
            "Using cached kiwisolver-1.4.7-cp39-cp39-win_amd64.whl (55 kB)\n",
            "Using cached networkx-3.2.1-py3-none-any.whl (1.6 MB)\n",
            "Using cached numpy-2.0.2-cp39-cp39-win_amd64.whl (15.9 MB)\n",
            "Downloading pillow-11.1.0-cp39-cp39-win_amd64.whl (2.6 MB)\n",
            "   ---------------------------------------- 0.0/2.6 MB ? eta -:--:--\n",
            "   ---------------------------------------- 2.6/2.6 MB 76.2 MB/s eta 0:00:00\n",
            "Using cached pyparsing-3.2.1-py3-none-any.whl (107 kB)\n",
            "Using cached quantum_blackbird-0.5.0-py3-none-any.whl (48 kB)\n",
            "Using cached quantum_xir-0.2.2-py3-none-any.whl (27 kB)\n",
            "Using cached requests-2.32.3-py3-none-any.whl (64 kB)\n",
            "Using cached scipy-1.13.1-cp39-cp39-win_amd64.whl (46.2 MB)\n",
            "Using cached sympy-1.13.3-py3-none-any.whl (6.2 MB)\n",
            "Using cached thewalrus-0.21.0-py3-none-any.whl (94 kB)\n",
            "Downloading numba-0.60.0-cp39-cp39-win_amd64.whl (2.7 MB)\n",
            "   ---------------------------------------- 0.0/2.7 MB ? eta -:--:--\n",
            "   ---------------------------------------- 2.7/2.7 MB 78.2 MB/s eta 0:00:00\n",
            "Using cached urllib3-2.3.0-py3-none-any.whl (128 kB)\n",
            "Using cached xanadu_cloud_client-0.3.2-py3-none-any.whl (25 kB)\n",
            "Using cached toml-0.10.2-py2.py3-none-any.whl (16 kB)\n",
            "Using cached certifi-2024.12.14-py3-none-any.whl (164 kB)\n",
            "Downloading charset_normalizer-3.4.1-cp39-cp39-win_amd64.whl (102 kB)\n",
            "Using cached idna-3.10-py3-none-any.whl (70 kB)\n",
            "Using cached lark_parser-0.12.0-py2.py3-none-any.whl (103 kB)\n",
            "Downloading llvmlite-0.43.0-cp39-cp39-win_amd64.whl (28.1 MB)\n",
            "   ---------------------------------------- 0.0/28.1 MB ? eta -:--:--\n",
            "   -------------------- ------------------- 14.7/28.1 MB 71.0 MB/s eta 0:00:01\n",
            "   ---------------------------------------- 28.1/28.1 MB 71.4 MB/s eta 0:00:00\n",
            "Using cached mpmath-1.3.0-py3-none-any.whl (536 kB)\n",
            "Using cached pydantic-2.10.5-py3-none-any.whl (431 kB)\n",
            "Downloading pydantic_core-2.27.2-cp39-cp39-win_amd64.whl (2.0 MB)\n",
            "   ---------------------------------------- 0.0/2.0 MB ? eta -:--:--\n",
            "   ---------------------------------------- 2.0/2.0 MB 55.6 MB/s eta 0:00:00\n",
            "Using cached appdirs-1.4.4-py2.py3-none-any.whl (9.6 kB)\n",
            "Using cached pydantic_settings-2.7.1-py3-none-any.whl (29 kB)\n",
            "Using cached python_dotenv-1.0.1-py3-none-any.whl (19 kB)\n",
            "Using cached annotated_types-0.7.0-py3-none-any.whl (13 kB)\n",
            "Using cached click-8.1.8-py3-none-any.whl (98 kB)\n",
            "Using cached cloudpickle-3.1.1-py3-none-any.whl (20 kB)\n",
            "Using cached fsspec-2024.12.0-py3-none-any.whl (183 kB)\n",
            "Using cached partd-1.4.2-py3-none-any.whl (18 kB)\n",
            "Using cached PyYAML-6.0.2-cp39-cp39-win_amd64.whl (162 kB)\n",
            "Using cached toolz-1.0.0-py3-none-any.whl (56 kB)\n",
            "Downloading dask-2024.8.0-py3-none-any.whl (1.2 MB)\n",
            "   ---------------------------------------- 0.0/1.2 MB ? eta -:--:--\n",
            "   ---------------------------------------- 1.2/1.2 MB 64.8 MB/s eta 0:00:00\n",
            "Using cached termcolor-2.5.0-py3-none-any.whl (7.8 kB)\n",
            "Using cached locket-1.0.0-py2.py3-none-any.whl (4.4 kB)\n",
            "Building wheels for collected packages: antlr4-python3-runtime, fire\n",
            "  Building wheel for antlr4-python3-runtime (setup.py): started\n",
            "  Building wheel for antlr4-python3-runtime (setup.py): finished with status 'done'\n",
            "  Created wheel for antlr4-python3-runtime: filename=antlr4_python3_runtime-4.9.2-py3-none-any.whl size=144568 sha256=00f89bd0339f155af9dc6c305bf3b63fb0912a3f9a60c3672f8e4d9b8d627aa3\n",
            "  Stored in directory: c:\\users\\tvle2\\appdata\\local\\pip\\cache\\wheels\\0c\\dc\\1c\\57974cae05c0a98c8d8590c471bdd8e953fcf18b14fa0890b7\n",
            "  Building wheel for fire (setup.py): started\n",
            "  Building wheel for fire (setup.py): finished with status 'done'\n",
            "  Created wheel for fire: filename=fire-0.7.0-py3-none-any.whl size=114262 sha256=bfa1c5a41993e5d8a117ece1a56364c6a9ebec8f23f0a37b09aaddede0f03c2a\n",
            "  Stored in directory: c:\\users\\tvle2\\appdata\\local\\pip\\cache\\wheels\\3b\\ee\\ac\\319a7b7f331f61050d0d54425079b2a883b445be3c7284a4eb\n",
            "Successfully built antlr4-python3-runtime fire\n",
            "Installing collected packages: mpmath, lark-parser, appdirs, antlr4-python3-runtime, urllib3, toolz, toml, termcolor, sympy, quantum-xir, pyyaml, python-dotenv, pyparsing, pydantic-core, pillow, numpy, networkx, locket, llvmlite, kiwisolver, importlib-resources, idna, fsspec, fonttools, cycler, cloudpickle, click, charset-normalizer, certifi, annotated-types, scipy, requests, quantum-blackbird, pydantic, partd, numba, fire, contourpy, pydantic-settings, matplotlib, dask, xanadu-cloud-client, thewalrus, strawberryfields\n",
            "Successfully installed annotated-types-0.7.0 antlr4-python3-runtime-4.9.2 appdirs-1.4.4 certifi-2024.12.14 charset-normalizer-3.4.1 click-8.1.8 cloudpickle-3.1.1 contourpy-1.3.0 cycler-0.12.1 dask-2024.8.0 fire-0.7.0 fonttools-4.55.3 fsspec-2024.12.0 idna-3.10 importlib-resources-6.5.2 kiwisolver-1.4.7 lark-parser-0.12.0 llvmlite-0.43.0 locket-1.0.0 matplotlib-3.9.4 mpmath-1.3.0 networkx-3.2.1 numba-0.60.0 numpy-2.0.2 partd-1.4.2 pillow-11.1.0 pydantic-2.10.5 pydantic-core-2.27.2 pydantic-settings-2.7.1 pyparsing-3.2.1 python-dotenv-1.0.1 pyyaml-6.0.2 quantum-blackbird-0.5.0 quantum-xir-0.2.2 requests-2.32.3 scipy-1.13.1 strawberryfields-0.23.0 sympy-1.13.3 termcolor-2.5.0 thewalrus-0.21.0 toml-0.10.2 toolz-1.0.0 urllib3-2.3.0 xanadu-cloud-client-0.3.2\n"
          ]
        }
      ],
      "source": [
        "# This cell is added by sphinx-gallery\n",
        "# It can be customized to whatever you like\n",
        "!pip install strawberryfields matplotlib\n",
        "%matplotlib inline"
      ]
    },
    {
      "cell_type": "markdown",
      "metadata": {},
      "source": [
        "\n",
        "An introduction to the bosonic backend\n",
        "======================================\n",
        "\n",
        "<div class=\"alert alert-info\"><h4>Note</h4><p>This tutorial is first in a series on the ``bosonic`` backend. After getting acquainted\n",
        "   with the backend in this tutorial, go to :doc:`part 2 </demos/run_sampling_bosonic>`\n",
        "   to learn about how the backend can be used to sample non-Gaussian states. After that,\n",
        "   check out :doc:`part 3 </demos/run_GKP_bosonic>` for a deep dive into using the ``bosonic``\n",
        "   backend to simulate qubits encoded in photonic modes. These tutorials accompany\n",
        "   our research paper [[#bourassa2021]_].</p></div>\n",
        "\n",
        "So far, Strawberry Fields allows its users to simulate photonic circuits using three\n",
        "backends. Two of them, the ``fock`` and ``tf`` backends, represent the quantum state of the modes using the Fock or particle basis. These backends allow one to represent\n",
        "arbitrary quantum states up to a photon cutoff, but this generality comes with an automatic\n",
        "exponential increase in the space complexity as a function of the number of modes\n",
        "with the base of the exponent scaling as the energy of the state of light.\n",
        "At the exact opposite end of this trade-off is the ``gaussian`` backend, in which there is no\n",
        "exponential scaling in the memory required, but at the same time there is only a subset of states\n",
        "that can be represented.\n",
        "\n",
        "In this tutorial, we introduce the new ``bosonic`` backend which borrows some of the best features\n",
        "of all the previous backends. Specifically, the ``bosonic`` backend is tailored to simulate states\n",
        "which can be represented as a linear combination of Gaussian functions in phase space.\n",
        "It provides very succinct descriptions of Gaussian states, just\n",
        "like the ``gaussian`` backend, but it can also provide descriptions of non-Gaussian states as well.\n",
        "Moreover, like in the ``gaussian`` backend, the application of the most common active and passive linear\n",
        "optical operations, like the displacement ``Dgate``, squeezing ``Sgate`` and beamsplitter ``BSgate`` gates,\n",
        "is extremely efficient.\n",
        "\n",
        "To motivate the ideas behind the backend, we will investigate how to represent the highly non-classical\n",
        "and non-Gaussian cat state. Once we build our intuition we will introduce the ``bosonic`` backend and\n",
        "investigate how it represents quantum states. Finally, we discuss why\n",
        "it can provide advantages over other backends for many applications.\n",
        "\n",
        "<div class=\"alert alert-info\"><h4>Note</h4><p>We assume the reader is familiar with the basics of the phase-space picture of quantum mechanics,\n",
        "   including Wigner functions. For the uninitiated, a good place to start is the :doc:`CV quantum gate visualizations\n",
        "   tutorial </demos/run_gate_visualization>`.</p></div>\n"
      ]
    },
    {
      "cell_type": "markdown",
      "metadata": {},
      "source": [
        "Of Cats and Kets\n",
        "----------------\n",
        "\n",
        "Cat states are defined to be linear superpositions of two coherent states\n",
        "\n",
        "\\begin{align}|k^\\alpha \\rangle_{\\text{cat}} = \\sqrt{\\mathcal{N}}\\left(|\\alpha \\rangle + e^{i \\pi k} |-\\alpha \\rangle \\right),\\end{align}\n",
        "\n",
        "where $| \\alpha \\rangle$ is a coherent state with amplitude\n",
        "$\\alpha$, $k$ is the phase parameter of the cat state and\n",
        "\n",
        "\\begin{align}\\mathcal{N} = \\frac{1}{2 (1+e^{-|\\alpha|^2}\\cos(\\pi k) )}\\end{align}\n",
        "\n",
        "is a normalization constant.\n",
        "\n",
        "Given the universality of the Fock backend we can use it to simulate the preparation of this state\n",
        "and plot its Wigner function:\n",
        "\n"
      ]
    },
    {
      "cell_type": "code",
      "execution_count": 2,
      "metadata": {
        "collapsed": false
      },
      "outputs": [
        {
          "data": {
            "image/png": "[encoded data removed]",
            "text/plain": [
              "<Figure size 640x480 with 1 Axes>"
            ]
          },
          "metadata": {},
          "output_type": "display_data"
        }
      ],
      "source": [
        "# Usual imports\n",
        "import strawberryfields as sf\n",
        "import numpy as np\n",
        "import matplotlib.pyplot as plt\n",
        "import matplotlib as mpl\n",
        "from matplotlib import cm\n",
        "\n",
        "# Simulation and cat state parameters\n",
        "nmodes = 1\n",
        "cutoff = 30\n",
        "q = 4.0\n",
        "p = 0.0\n",
        "hbar = 2\n",
        "alpha = (q + 1j * p) / np.sqrt(2 * hbar)\n",
        "k = 1\n",
        "\n",
        "# SF program\n",
        "prog_cat_fock = sf.Program(nmodes)\n",
        "with prog_cat_fock.context as q:\n",
        "    sf.ops.Catstate(a=np.absolute(alpha), phi=np.angle(alpha), p=k) | q\n",
        "\n",
        "eng = sf.Engine(\"fock\", backend_options={\"cutoff_dim\": cutoff, \"hbar\": hbar})\n",
        "state = eng.run(prog_cat_fock).state\n",
        "\n",
        "# We now plot it\n",
        "xvec = np.linspace(-15, 15, 401)\n",
        "W = state.wigner(mode=0, xvec=xvec, pvec=xvec)\n",
        "Wp = np.round(W.real, 4)\n",
        "scale = np.max(Wp.real)\n",
        "nrm = mpl.colors.Normalize(-scale, scale)\n",
        "plt.axes().set_aspect(\"equal\")\n",
        "plt.contourf(xvec, xvec, Wp, 60, cmap=cm.RdBu, norm=nrm)\n",
        "plt.show()"
      ]
    },
    {
      "cell_type": "markdown",
      "metadata": {},
      "source": [
        "Some parts of the Wigner function are easy to interpret: since the state\n",
        "is a coherent superposition of two widely separated coherent states,\n",
        "we expect to see two circular blobs centered around $(q,p)=\\pm\\sqrt{2 \\hbar}(\\Re(\\alpha), \\Im(\\alpha))$.\n",
        "Because a cat state is a *coherent* superposition of the two coherent states,\n",
        "we also see interference fringes in between the \"classical\" states of the cat.\n",
        "Mathematically, one can determine the nature of these interference fringes by\n",
        "looking at the density matrix of a cat state given by\n",
        "\n",
        "\\begin{align}|k^\\alpha \\rangle \\langle k^\\alpha |_{\\text{cat}} = \\mathcal{N} \\left( |\\alpha \\rangle \\langle \\alpha| + |-\\alpha \\rangle \\langle -\\alpha|+e^{i \\pi k} |-\\alpha \\rangle \\langle \\alpha | + e^{-i \\pi k} |\\alpha \\rangle \\langle -\\alpha |\\right).\\end{align}\n",
        "\n",
        "The transformation from density matrix to Wigner function is linear, so the first two terms exactly correspond to the Wigner functions of the two coherent states\n",
        "$|\\pm \\alpha \\rangle$ and are thus Gaussian functions centered around $\\boldsymbol{\\mu} = \\sqrt{2 \\hbar}(\\Re(\\alpha), \\Im(\\alpha))$,\n",
        "with the usual vacuum noise giving them some finite width.\n",
        "The last two terms in the equation above are more complicated to interpret. We know that they are the Hermitian\n",
        "conjugates of each other $(\\left[ e^{i \\pi k} |-\\alpha \\rangle \\langle \\alpha |\\right]^\\dagger = e^{-i \\pi k} |\\alpha \\rangle \\langle -\\alpha |)$\n",
        ", and by elimination they must correspond to the interference features present close to the origin\n",
        "of phase space.\n",
        "\n",
        "In our recent preprint [[#bourassa2021]_], we show that the Wigner function of terms like $|-\\alpha \\rangle \\langle \\alpha |$\n",
        "is also a Gaussian function, but with *complex* means $\\boldsymbol{\\mu} = \\sqrt{2 \\hbar} i (\\Im(\\alpha),-\\Re(\\alpha))$.\n",
        "Therefore, we can express the Wigner function of the cat state as a weighted sum of four Gaussians in phase space ---\n",
        "as long as we allow the Gaussians to have complex means.\n",
        "Since a cat state can be written as a linear combination of Gaussian functions in phase space, we can simulate\n",
        "the same circuit presented above using the ``bosonic`` backend. Since this backend does not\n",
        "use Fock states, we don't need to pass a cutoff argument, thus we can write:\n",
        "\n"
      ]
    },
    {
      "cell_type": "code",
      "execution_count": 3,
      "metadata": {
        "collapsed": false
      },
      "outputs": [],
      "source": [
        "prog_cat_bosonic = sf.Program(nmodes)\n",
        "\n",
        "with prog_cat_bosonic.context as q:\n",
        "    sf.ops.Catstate(a=np.absolute(alpha), phi=np.angle(alpha), p=k) | q\n",
        "\n",
        "eng = sf.Engine(\"bosonic\", backend_options={\"hbar\": hbar})\n",
        "state = eng.run(prog_cat_bosonic).state"
      ]
    },
    {
      "cell_type": "markdown",
      "metadata": {},
      "source": [
        "We can now inspect the internal representation of the cat state inside\n",
        "the ``bosonic`` backend. To this end, we can print the attributes ``means``,\n",
        "``covs`` and ``weights``.\n",
        "The ``means`` variable is a NumPy array containing the means of the\n",
        "four Gaussians needed to describe the state.\n",
        "\n"
      ]
    },
    {
      "cell_type": "code",
      "execution_count": 4,
      "metadata": {
        "collapsed": false
      },
      "outputs": [
        {
          "name": "stdout",
          "output_type": "stream",
          "text": [
            "[[ 4.+0.j  0.+0.j]\n",
            " [-4.+0.j -0.+0.j]\n",
            " [ 0.+0.j  0.-4.j]\n",
            " [ 0.+0.j  0.+4.j]]\n"
          ]
        }
      ],
      "source": [
        "means = state.means()\n",
        "print(means)"
      ]
    },
    {
      "cell_type": "markdown",
      "metadata": {},
      "source": [
        "The first axis of the array is the one labelling the different Gaussians.\n",
        "Similarly, ``covs`` contains the covariance matrices of the four Gaussians:\n",
        "\n"
      ]
    },
    {
      "cell_type": "code",
      "execution_count": 5,
      "metadata": {
        "collapsed": false
      },
      "outputs": [
        {
          "name": "stdout",
          "output_type": "stream",
          "text": [
            "[[[1. 0.]\n",
            "  [0. 1.]]\n",
            "\n",
            " [[1. 0.]\n",
            "  [0. 1.]]\n",
            "\n",
            " [[1. 0.]\n",
            "  [0. 1.]]\n",
            "\n",
            " [[1. 0.]\n",
            "  [0. 1.]]]\n"
          ]
        }
      ],
      "source": [
        "covs = state.covs()\n",
        "print(covs)"
      ]
    },
    {
      "cell_type": "markdown",
      "metadata": {},
      "source": [
        "Finally, as noted earlier the Wigner function is a *weighted* sum of the\n",
        "four different Gaussians, the actual ``weights`` or coefficients are given by\n",
        "\n"
      ]
    },
    {
      "cell_type": "code",
      "execution_count": 6,
      "metadata": {
        "collapsed": false
      },
      "outputs": [
        {
          "name": "stdout",
          "output_type": "stream",
          "text": [
            "[ 5.00167788e-01+0.00000000e+00j  5.00167788e-01+0.00000000e+00j\n",
            " -1.67787600e-04-2.05480548e-20j -1.67787600e-04+2.05480548e-20j]\n"
          ]
        }
      ],
      "source": [
        "weights = state.weights()\n",
        "print(weights)"
      ]
    },
    {
      "cell_type": "markdown",
      "metadata": {},
      "source": [
        "Note that both the ``weights`` and ``means`` are complex.\n",
        "With the information provided from the backend, we are ready to verify\n",
        "that we got the correct cat. To this end, we will first create a simple\n",
        "wrapper function to generate a Gaussian with mean ``mu`` and covariance\n",
        "matrix ``V`` and a convenience function to evaluate it on a grid of points:\n",
        "\n"
      ]
    },
    {
      "cell_type": "code",
      "execution_count": 7,
      "metadata": {
        "collapsed": false
      },
      "outputs": [],
      "source": [
        "def gaussian_func_gen(mu, V):\n",
        "    \"\"\"Generates a function that when evaluated returns\n",
        "    the value of a normalized Gaussian specified in terms\n",
        "    of a vector of means and a covariance matrix.\n",
        "\n",
        "    Args:\n",
        "        mu (array): vector of means\n",
        "        V (array): covariance matrix\n",
        "\n",
        "    Returns:\n",
        "        (callable): a normalized Gaussian function\n",
        "    \"\"\"\n",
        "    Vi = np.linalg.inv(V)\n",
        "    norm = 1.0 / np.sqrt(np.linalg.det(2 * np.pi * V))\n",
        "    fun = lambda x: norm * np.exp(-0.5 * (x - mu) @ Vi @ (x - mu))\n",
        "    return fun\n",
        "\n",
        "\n",
        "def evaluate_fun(fun, xvec, yvec):\n",
        "    \"\"\"Evaluate a function a 2D in a grid of points.\n",
        "\n",
        "    Args:\n",
        "        fun (callable): function to evaluate\n",
        "        xvec (array): values of the first variable of the function\n",
        "        yvec (array): values of the second variable of the function\n",
        "\n",
        "    Returns:\n",
        "        (array): value of the function in the grid\n",
        "    \"\"\"\n",
        "    return np.array([[fun(np.array([x, y])) for x in xvec] for y in xvec])\n",
        "\n",
        "\n",
        "funs = [gaussian_func_gen(means[i], covs[i]) for i in range(len(means))]\n",
        "\n",
        "Wps = [weights[i] * evaluate_fun(funs[i], xvec, xvec) for i in range(len(weights))]"
      ]
    },
    {
      "cell_type": "markdown",
      "metadata": {},
      "source": [
        "The list ``Wps`` contains the values of the different Gaussians making\n",
        "the Wigner function of the cat state. We can easily verify that when we\n",
        "sum the different components for every point in phase space we obtain\n",
        "a zero imaginary part:\n",
        "\n"
      ]
    },
    {
      "cell_type": "code",
      "execution_count": 8,
      "metadata": {
        "collapsed": false
      },
      "outputs": [
        {
          "name": "stdout",
          "output_type": "stream",
          "text": [
            "True\n"
          ]
        }
      ],
      "source": [
        "print(np.allclose(sum(Wps).imag, 0))"
      ]
    },
    {
      "cell_type": "markdown",
      "metadata": {},
      "source": [
        "In fact, we can verify that the last two components are the complex\n",
        "conjugate of each other (thus their sum is real),\n",
        "and that the first two components are strictly real:\n",
        "\n"
      ]
    },
    {
      "cell_type": "code",
      "execution_count": 9,
      "metadata": {
        "collapsed": false
      },
      "outputs": [
        {
          "name": "stdout",
          "output_type": "stream",
          "text": [
            "True\n",
            "True\n",
            "True\n"
          ]
        }
      ],
      "source": [
        "print(np.allclose(Wps[2],  Wps[3].conj()))\n",
        "print(np.allclose(Wps[0].imag, 0))\n",
        "print(np.allclose(Wps[1].imag, 0))"
      ]
    },
    {
      "cell_type": "markdown",
      "metadata": {},
      "source": [
        "We can look individually at each of the Gaussians as well:\n",
        "\n"
      ]
    },
    {
      "cell_type": "code",
      "execution_count": 10,
      "metadata": {
        "collapsed": false
      },
      "outputs": [
        {
          "data": {
            "image/png": "[encoded data removed]",
            "text/plain": [
              "<Figure size 1000x220 with 4 Axes>"
            ]
          },
          "metadata": {},
          "output_type": "display_data"
        }
      ],
      "source": [
        "fig, axs = plt.subplots(1, 4, figsize=(10, 2.2))\n",
        "for i in range(4):\n",
        "    Wp = np.round(Wps[i].real, 4)\n",
        "    axs[i].contourf(xvec, xvec, Wp, 60, cmap=cm.RdBu, norm=nrm)\n",
        "    if i != 0:\n",
        "        axs[i].set_yticks([])\n",
        "plt.show()"
      ]
    },
    {
      "cell_type": "markdown",
      "metadata": {},
      "source": [
        "And also put them together to obtain exactly the same Wigner function\n",
        "from before:\n",
        "\n"
      ]
    },
    {
      "cell_type": "code",
      "execution_count": 11,
      "metadata": {
        "collapsed": false
      },
      "outputs": [
        {
          "data": {
            "image/png": "[encoded data removed]",
            "text/plain": [
              "<Figure size 640x480 with 1 Axes>"
            ]
          },
          "metadata": {},
          "output_type": "display_data"
        }
      ],
      "source": [
        "Wcat = sum(Wps)\n",
        "plt.axes().set_aspect(\"equal\")\n",
        "plt.contourf(xvec, xvec, Wcat.real, 60, cmap=cm.RdBu, norm=nrm)\n",
        "plt.show()"
      ]
    },
    {
      "cell_type": "markdown",
      "metadata": {},
      "source": [
        "Why is the bosonic backend useful?\n",
        "----------------------------------\n",
        "Now that we understand the internal workings of the new ``bosonic``\n",
        "backend, let's illustrate its utility. To this end, let us consider\n",
        "a slightly more complicated circuit where we displace a cat state.\n",
        "This is how it looks in the Fock backend:\n",
        "\n"
      ]
    },
    {
      "cell_type": "code",
      "execution_count": 12,
      "metadata": {
        "collapsed": false
      },
      "outputs": [],
      "source": [
        "x = 6\n",
        "y = 0\n",
        "\n",
        "beta = (x + 1j * y) / np.sqrt(2 * hbar)\n",
        "prog_cat_fock_displaced = sf.Program(nmodes)\n",
        "\n",
        "with prog_cat_fock_displaced.context as q:\n",
        "    sf.ops.Catstate(a=np.absolute(alpha), phi=np.angle(alpha), p=k) | q\n",
        "    sf.ops.Dgate(beta) | q\n",
        "\n",
        "eng = sf.Engine(\"fock\", backend_options={\"cutoff_dim\": cutoff, \"hbar\": hbar})\n",
        "state = eng.run(prog_cat_fock_displaced).state"
      ]
    },
    {
      "cell_type": "markdown",
      "metadata": {},
      "source": [
        "Plotting the Wigner function of the returned state:\n",
        "\n"
      ]
    },
    {
      "cell_type": "code",
      "execution_count": 13,
      "metadata": {
        "collapsed": false
      },
      "outputs": [
        {
          "data": {
            "image/png": "[encoded data removed]",
            "text/plain": [
              "<Figure size 640x480 with 1 Axes>"
            ]
          },
          "metadata": {},
          "output_type": "display_data"
        }
      ],
      "source": [
        "W = state.wigner(mode=0, xvec=xvec, pvec=xvec)\n",
        "plt.axes().set_aspect(\"equal\")\n",
        "plt.contourf(xvec, xvec, W, 60, cmap=cm.RdBu, norm=nrm)\n",
        "plt.show()"
      ]
    },
    {
      "cell_type": "markdown",
      "metadata": {},
      "source": [
        "This plot does not meet our expectation that a ``Dgate`` gate simply\n",
        "displaces the Wigner function of a state. Indeed, we see that significant distortion occurs in the\n",
        "right-hand-side .\n",
        "This happened because the ``cutoff`` we choose is not sufficient to faithfully\n",
        "represent the *displaced* cat. A simple solution to this problem is to increase\n",
        "the ``cutoff`` in the simulation, but that will lead to an increase in memory and\n",
        "a slower simulation.\n",
        "The behaviour of the ``fock`` backend can be contrasted\n",
        "with the one of the ``bosonic`` backend where we obtain\n",
        "\n"
      ]
    },
    {
      "cell_type": "code",
      "execution_count": 14,
      "metadata": {
        "collapsed": false
      },
      "outputs": [],
      "source": [
        "prog_cat_bosonic_displaced = sf.Program(nmodes)\n",
        "\n",
        "with prog_cat_bosonic_displaced.context as q:\n",
        "    sf.ops.Catstate(a=np.absolute(alpha), phi=np.angle(alpha), p=k) | q\n",
        "    sf.ops.Dgate(beta) | q\n",
        "\n",
        "eng = sf.Engine(\"bosonic\", backend_options={\"hbar\": hbar})\n",
        "state = eng.run(prog_cat_bosonic_displaced).state"
      ]
    },
    {
      "cell_type": "markdown",
      "metadata": {},
      "source": [
        "Just like in the case of the ``fock`` backend,\n",
        "we can also use the ``wigner`` method to generate Wigner functions:\n",
        "\n"
      ]
    },
    {
      "cell_type": "code",
      "execution_count": 15,
      "metadata": {
        "collapsed": false
      },
      "outputs": [
        {
          "data": {
            "image/png": "[encoded data removed]",
            "text/plain": [
              "<Figure size 640x480 with 1 Axes>"
            ]
          },
          "metadata": {},
          "output_type": "display_data"
        }
      ],
      "source": [
        "Wps = state.wigner(mode=0, xvec=xvec, pvec=xvec)\n",
        "plt.axes().set_aspect(\"equal\")\n",
        "plt.contourf(xvec, xvec, Wps, 60, cmap=cm.RdBu, norm=nrm)\n",
        "plt.show()"
      ]
    },
    {
      "cell_type": "markdown",
      "metadata": {},
      "source": [
        "We can easily verify that in the internal representation in the backend\n",
        "we have only modified the displacement relative to the first program\n",
        "we investigated:\n",
        "\n"
      ]
    },
    {
      "cell_type": "code",
      "execution_count": 16,
      "metadata": {
        "collapsed": false
      },
      "outputs": [
        {
          "name": "stdout",
          "output_type": "stream",
          "text": [
            "[[10.+0.j  0.+0.j]\n",
            " [ 2.+0.j  0.+0.j]\n",
            " [ 6.+0.j  0.-4.j]\n",
            " [ 6.+0.j  0.+4.j]]\n"
          ]
        }
      ],
      "source": [
        "print(state.means())"
      ]
    },
    {
      "cell_type": "markdown",
      "metadata": {},
      "source": [
        "Conclusions and Outlook\n",
        "-----------------------\n",
        "In this tutorial, we have introduced the new ``bosonic`` backend of Strawberry Fields,\n",
        "explained the basic idea of how it represents quantum states and\n",
        "showcased some of the advantages it has with respect to other backends.\n",
        "We observed that when the energy of the cat state being considered was\n",
        "increased by displacement, the Fock backend gave unexpected results,\n",
        "and it actually requires higher cutoff and more memory for accurate results.\n",
        "On the other hand, the bosonic backend can quickly and easily deal with\n",
        "situations such as this on by merely changing the means and covariance\n",
        "matrices of the represented state.\n",
        "For a more advanced feature, check out :doc:`part 2 </demos/run_sampling_bosonic>`\n",
        "of this series to see how the bosonic backend can be used for sampling.\n",
        "\n",
        "\n"
      ]
    },
    {
      "cell_type": "markdown",
      "metadata": {},
      "source": [
        "References\n",
        "----------\n",
        "\n",
        ".. [#bourassa2021]\n",
        "\n",
        "    J. Eli Bourassa, Nicolás Quesada, Ilan Tzitrin, Antal Száva, Theodor Isacsson,\n",
        "    Josh Izaac, Krishna Kumar Sabapathy, Guillaume Dauphinais, and Ish Dhand.\n",
        "    Fast simulation of bosonic qubits via Gaussian functions in phase space.\n",
        "    `arXiv:2103.05530 <https://arxiv.org/abs/2103.05530>`_, 2021.\n",
        "\n"
      ]
    }
  ],
  "metadata": {
    "kernelspec": {
      "display_name": "Python 3",
      "language": "python",
      "name": "python3"
    },
    "language_info": {
      "codemirror_mode": {
        "name": "ipython",
        "version": 3
      },
      "file_extension": ".py",
      "mimetype": "text/x-python",
      "name": "python",
      "nbconvert_exporter": "python",
      "pygments_lexer": "ipython3",
      "version": "3.9.21"
    }
  },
  "nbformat": 4,
  "nbformat_minor": 0
}
